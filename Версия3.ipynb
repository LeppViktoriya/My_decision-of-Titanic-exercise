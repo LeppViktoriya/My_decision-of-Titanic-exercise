{
  "cells": [
    {
      "cell_type": "code",
      "execution_count": 826,
      "metadata": {
        "id": "9TlGiJNPJQyF"
      },
      "outputs": [],
      "source": [
        "import pandas as pd\n",
        "import numpy as np\n",
        "import matplotlib.pyplot as plt\n",
        "%matplotlib inline\n",
        "import seaborn as sns\n",
        "import plotly.express as px\n",
        "from  sklearn.ensemble import IsolationForest\n",
        "import warnings\n",
        "warnings.filterwarnings('ignore')\n",
        "from sklearn.preprocessing  import LabelEncoder\n",
        "from sklearn import linear_model \n",
        "from sklearn import tree \n",
        "from sklearn import ensemble \n",
        "from sklearn import metrics \n",
        "from sklearn import preprocessing \n",
        "from sklearn.tree import DecisionTreeClassifier\n",
        "from sklearn.model_selection import train_test_split \n",
        "from sklearn.feature_selection import SelectKBest, f_classif"
      ]
    },
    {
      "cell_type": "code",
      "execution_count": 827,
      "metadata": {
        "colab": {
          "base_uri": "https://localhost:8080/",
          "height": 754
        },
        "id": "xpQbJdYAJT5K",
        "outputId": "cd7ef044-c11f-4800-bbb7-5b6602605bdd"
      },
      "outputs": [
        {
          "name": "stdout",
          "output_type": "stream",
          "text": [
            "<class 'pandas.core.frame.DataFrame'>\n",
            "Int64Index: 891 entries, 1 to 891\n",
            "Data columns (total 11 columns):\n",
            " #   Column    Non-Null Count  Dtype  \n",
            "---  ------    --------------  -----  \n",
            " 0   Survived  891 non-null    int64  \n",
            " 1   Pclass    891 non-null    int64  \n",
            " 2   Name      891 non-null    object \n",
            " 3   Sex       891 non-null    object \n",
            " 4   Age       714 non-null    float64\n",
            " 5   SibSp     891 non-null    int64  \n",
            " 6   Parch     891 non-null    int64  \n",
            " 7   Ticket    891 non-null    object \n",
            " 8   Fare      891 non-null    float64\n",
            " 9   Cabin     204 non-null    object \n",
            " 10  Embarked  889 non-null    object \n",
            "dtypes: float64(2), int64(4), object(5)\n",
            "memory usage: 83.5+ KB\n"
          ]
        },
        {
          "data": {
            "text/html": [
              "<div>\n",
              "<style scoped>\n",
              "    .dataframe tbody tr th:only-of-type {\n",
              "        vertical-align: middle;\n",
              "    }\n",
              "\n",
              "    .dataframe tbody tr th {\n",
              "        vertical-align: top;\n",
              "    }\n",
              "\n",
              "    .dataframe thead th {\n",
              "        text-align: right;\n",
              "    }\n",
              "</style>\n",
              "<table border=\"1\" class=\"dataframe\">\n",
              "  <thead>\n",
              "    <tr style=\"text-align: right;\">\n",
              "      <th></th>\n",
              "      <th>Survived</th>\n",
              "      <th>Pclass</th>\n",
              "      <th>Name</th>\n",
              "      <th>Sex</th>\n",
              "      <th>Age</th>\n",
              "      <th>SibSp</th>\n",
              "      <th>Parch</th>\n",
              "      <th>Ticket</th>\n",
              "      <th>Fare</th>\n",
              "      <th>Cabin</th>\n",
              "      <th>Embarked</th>\n",
              "    </tr>\n",
              "    <tr>\n",
              "      <th>PassengerId</th>\n",
              "      <th></th>\n",
              "      <th></th>\n",
              "      <th></th>\n",
              "      <th></th>\n",
              "      <th></th>\n",
              "      <th></th>\n",
              "      <th></th>\n",
              "      <th></th>\n",
              "      <th></th>\n",
              "      <th></th>\n",
              "      <th></th>\n",
              "    </tr>\n",
              "  </thead>\n",
              "  <tbody>\n",
              "    <tr>\n",
              "      <th>1</th>\n",
              "      <td>0</td>\n",
              "      <td>3</td>\n",
              "      <td>Braund, Mr. Owen Harris</td>\n",
              "      <td>male</td>\n",
              "      <td>22.0</td>\n",
              "      <td>1</td>\n",
              "      <td>0</td>\n",
              "      <td>A/5 21171</td>\n",
              "      <td>7.2500</td>\n",
              "      <td>NaN</td>\n",
              "      <td>S</td>\n",
              "    </tr>\n",
              "    <tr>\n",
              "      <th>2</th>\n",
              "      <td>1</td>\n",
              "      <td>1</td>\n",
              "      <td>Cumings, Mrs. John Bradley (Florence Briggs Th...</td>\n",
              "      <td>female</td>\n",
              "      <td>38.0</td>\n",
              "      <td>1</td>\n",
              "      <td>0</td>\n",
              "      <td>PC 17599</td>\n",
              "      <td>71.2833</td>\n",
              "      <td>C85</td>\n",
              "      <td>C</td>\n",
              "    </tr>\n",
              "    <tr>\n",
              "      <th>3</th>\n",
              "      <td>1</td>\n",
              "      <td>3</td>\n",
              "      <td>Heikkinen, Miss. Laina</td>\n",
              "      <td>female</td>\n",
              "      <td>26.0</td>\n",
              "      <td>0</td>\n",
              "      <td>0</td>\n",
              "      <td>STON/O2. 3101282</td>\n",
              "      <td>7.9250</td>\n",
              "      <td>NaN</td>\n",
              "      <td>S</td>\n",
              "    </tr>\n",
              "    <tr>\n",
              "      <th>4</th>\n",
              "      <td>1</td>\n",
              "      <td>1</td>\n",
              "      <td>Futrelle, Mrs. Jacques Heath (Lily May Peel)</td>\n",
              "      <td>female</td>\n",
              "      <td>35.0</td>\n",
              "      <td>1</td>\n",
              "      <td>0</td>\n",
              "      <td>113803</td>\n",
              "      <td>53.1000</td>\n",
              "      <td>C123</td>\n",
              "      <td>S</td>\n",
              "    </tr>\n",
              "    <tr>\n",
              "      <th>5</th>\n",
              "      <td>0</td>\n",
              "      <td>3</td>\n",
              "      <td>Allen, Mr. William Henry</td>\n",
              "      <td>male</td>\n",
              "      <td>35.0</td>\n",
              "      <td>0</td>\n",
              "      <td>0</td>\n",
              "      <td>373450</td>\n",
              "      <td>8.0500</td>\n",
              "      <td>NaN</td>\n",
              "      <td>S</td>\n",
              "    </tr>\n",
              "    <tr>\n",
              "      <th>...</th>\n",
              "      <td>...</td>\n",
              "      <td>...</td>\n",
              "      <td>...</td>\n",
              "      <td>...</td>\n",
              "      <td>...</td>\n",
              "      <td>...</td>\n",
              "      <td>...</td>\n",
              "      <td>...</td>\n",
              "      <td>...</td>\n",
              "      <td>...</td>\n",
              "      <td>...</td>\n",
              "    </tr>\n",
              "    <tr>\n",
              "      <th>887</th>\n",
              "      <td>0</td>\n",
              "      <td>2</td>\n",
              "      <td>Montvila, Rev. Juozas</td>\n",
              "      <td>male</td>\n",
              "      <td>27.0</td>\n",
              "      <td>0</td>\n",
              "      <td>0</td>\n",
              "      <td>211536</td>\n",
              "      <td>13.0000</td>\n",
              "      <td>NaN</td>\n",
              "      <td>S</td>\n",
              "    </tr>\n",
              "    <tr>\n",
              "      <th>888</th>\n",
              "      <td>1</td>\n",
              "      <td>1</td>\n",
              "      <td>Graham, Miss. Margaret Edith</td>\n",
              "      <td>female</td>\n",
              "      <td>19.0</td>\n",
              "      <td>0</td>\n",
              "      <td>0</td>\n",
              "      <td>112053</td>\n",
              "      <td>30.0000</td>\n",
              "      <td>B42</td>\n",
              "      <td>S</td>\n",
              "    </tr>\n",
              "    <tr>\n",
              "      <th>889</th>\n",
              "      <td>0</td>\n",
              "      <td>3</td>\n",
              "      <td>Johnston, Miss. Catherine Helen \"Carrie\"</td>\n",
              "      <td>female</td>\n",
              "      <td>NaN</td>\n",
              "      <td>1</td>\n",
              "      <td>2</td>\n",
              "      <td>W./C. 6607</td>\n",
              "      <td>23.4500</td>\n",
              "      <td>NaN</td>\n",
              "      <td>S</td>\n",
              "    </tr>\n",
              "    <tr>\n",
              "      <th>890</th>\n",
              "      <td>1</td>\n",
              "      <td>1</td>\n",
              "      <td>Behr, Mr. Karl Howell</td>\n",
              "      <td>male</td>\n",
              "      <td>26.0</td>\n",
              "      <td>0</td>\n",
              "      <td>0</td>\n",
              "      <td>111369</td>\n",
              "      <td>30.0000</td>\n",
              "      <td>C148</td>\n",
              "      <td>C</td>\n",
              "    </tr>\n",
              "    <tr>\n",
              "      <th>891</th>\n",
              "      <td>0</td>\n",
              "      <td>3</td>\n",
              "      <td>Dooley, Mr. Patrick</td>\n",
              "      <td>male</td>\n",
              "      <td>32.0</td>\n",
              "      <td>0</td>\n",
              "      <td>0</td>\n",
              "      <td>370376</td>\n",
              "      <td>7.7500</td>\n",
              "      <td>NaN</td>\n",
              "      <td>Q</td>\n",
              "    </tr>\n",
              "  </tbody>\n",
              "</table>\n",
              "<p>891 rows × 11 columns</p>\n",
              "</div>"
            ],
            "text/plain": [
              "             Survived  Pclass  \\\n",
              "PassengerId                     \n",
              "1                   0       3   \n",
              "2                   1       1   \n",
              "3                   1       3   \n",
              "4                   1       1   \n",
              "5                   0       3   \n",
              "...               ...     ...   \n",
              "887                 0       2   \n",
              "888                 1       1   \n",
              "889                 0       3   \n",
              "890                 1       1   \n",
              "891                 0       3   \n",
              "\n",
              "                                                          Name     Sex   Age  \\\n",
              "PassengerId                                                                    \n",
              "1                                      Braund, Mr. Owen Harris    male  22.0   \n",
              "2            Cumings, Mrs. John Bradley (Florence Briggs Th...  female  38.0   \n",
              "3                                       Heikkinen, Miss. Laina  female  26.0   \n",
              "4                 Futrelle, Mrs. Jacques Heath (Lily May Peel)  female  35.0   \n",
              "5                                     Allen, Mr. William Henry    male  35.0   \n",
              "...                                                        ...     ...   ...   \n",
              "887                                      Montvila, Rev. Juozas    male  27.0   \n",
              "888                               Graham, Miss. Margaret Edith  female  19.0   \n",
              "889                   Johnston, Miss. Catherine Helen \"Carrie\"  female   NaN   \n",
              "890                                      Behr, Mr. Karl Howell    male  26.0   \n",
              "891                                        Dooley, Mr. Patrick    male  32.0   \n",
              "\n",
              "             SibSp  Parch            Ticket     Fare Cabin Embarked  \n",
              "PassengerId                                                          \n",
              "1                1      0         A/5 21171   7.2500   NaN        S  \n",
              "2                1      0          PC 17599  71.2833   C85        C  \n",
              "3                0      0  STON/O2. 3101282   7.9250   NaN        S  \n",
              "4                1      0            113803  53.1000  C123        S  \n",
              "5                0      0            373450   8.0500   NaN        S  \n",
              "...            ...    ...               ...      ...   ...      ...  \n",
              "887              0      0            211536  13.0000   NaN        S  \n",
              "888              0      0            112053  30.0000   B42        S  \n",
              "889              1      2        W./C. 6607  23.4500   NaN        S  \n",
              "890              0      0            111369  30.0000  C148        C  \n",
              "891              0      0            370376   7.7500   NaN        Q  \n",
              "\n",
              "[891 rows x 11 columns]"
            ]
          },
          "execution_count": 827,
          "metadata": {},
          "output_type": "execute_result"
        }
      ],
      "source": [
        "df_train = pd.read_csv('train.csv', index_col='PassengerId') # датасет для обучения\n",
        "df_test = pd.read_csv('test.csv', index_col='PassengerId') # датасет для предсказания\n",
        "sample_submission = pd.read_csv('gender_submission.csv') # самбмишн\n",
        "df_train.info()\n",
        "df_train.describe(include = 'object')\n",
        "df_train"
      ]
    },
    {
      "cell_type": "code",
      "execution_count": 828,
      "metadata": {},
      "outputs": [
        {
          "name": "stdout",
          "output_type": "stream",
          "text": [
            "<class 'pandas.core.frame.DataFrame'>\n",
            "Int64Index: 418 entries, 892 to 1309\n",
            "Data columns (total 10 columns):\n",
            " #   Column    Non-Null Count  Dtype  \n",
            "---  ------    --------------  -----  \n",
            " 0   Pclass    418 non-null    int64  \n",
            " 1   Name      418 non-null    object \n",
            " 2   Sex       418 non-null    object \n",
            " 3   Age       332 non-null    float64\n",
            " 4   SibSp     418 non-null    int64  \n",
            " 5   Parch     418 non-null    int64  \n",
            " 6   Ticket    418 non-null    object \n",
            " 7   Fare      417 non-null    float64\n",
            " 8   Cabin     91 non-null     object \n",
            " 9   Embarked  418 non-null    object \n",
            "dtypes: float64(2), int64(3), object(5)\n",
            "memory usage: 35.9+ KB\n"
          ]
        }
      ],
      "source": [
        "df_test.info()"
      ]
    },
    {
      "cell_type": "code",
      "execution_count": 829,
      "metadata": {},
      "outputs": [
        {
          "data": {
            "text/html": [
              "<div>\n",
              "<style scoped>\n",
              "    .dataframe tbody tr th:only-of-type {\n",
              "        vertical-align: middle;\n",
              "    }\n",
              "\n",
              "    .dataframe tbody tr th {\n",
              "        vertical-align: top;\n",
              "    }\n",
              "\n",
              "    .dataframe thead th {\n",
              "        text-align: right;\n",
              "    }\n",
              "</style>\n",
              "<table border=\"1\" class=\"dataframe\">\n",
              "  <thead>\n",
              "    <tr style=\"text-align: right;\">\n",
              "      <th></th>\n",
              "      <th>Pclass</th>\n",
              "      <th>Name</th>\n",
              "      <th>Sex</th>\n",
              "      <th>Age</th>\n",
              "      <th>SibSp</th>\n",
              "      <th>Parch</th>\n",
              "      <th>Ticket</th>\n",
              "      <th>Fare</th>\n",
              "      <th>Cabin</th>\n",
              "      <th>Embarked</th>\n",
              "    </tr>\n",
              "    <tr>\n",
              "      <th>PassengerId</th>\n",
              "      <th></th>\n",
              "      <th></th>\n",
              "      <th></th>\n",
              "      <th></th>\n",
              "      <th></th>\n",
              "      <th></th>\n",
              "      <th></th>\n",
              "      <th></th>\n",
              "      <th></th>\n",
              "      <th></th>\n",
              "    </tr>\n",
              "  </thead>\n",
              "  <tbody>\n",
              "    <tr>\n",
              "      <th>892</th>\n",
              "      <td>3</td>\n",
              "      <td>Kelly, Mr. James</td>\n",
              "      <td>male</td>\n",
              "      <td>34.5</td>\n",
              "      <td>0</td>\n",
              "      <td>0</td>\n",
              "      <td>330911</td>\n",
              "      <td>7.8292</td>\n",
              "      <td>NaN</td>\n",
              "      <td>Q</td>\n",
              "    </tr>\n",
              "    <tr>\n",
              "      <th>893</th>\n",
              "      <td>3</td>\n",
              "      <td>Wilkes, Mrs. James (Ellen Needs)</td>\n",
              "      <td>female</td>\n",
              "      <td>47.0</td>\n",
              "      <td>1</td>\n",
              "      <td>0</td>\n",
              "      <td>363272</td>\n",
              "      <td>7.0000</td>\n",
              "      <td>NaN</td>\n",
              "      <td>S</td>\n",
              "    </tr>\n",
              "  </tbody>\n",
              "</table>\n",
              "</div>"
            ],
            "text/plain": [
              "             Pclass                              Name     Sex   Age  SibSp  \\\n",
              "PassengerId                                                                  \n",
              "892               3                  Kelly, Mr. James    male  34.5      0   \n",
              "893               3  Wilkes, Mrs. James (Ellen Needs)  female  47.0      1   \n",
              "\n",
              "             Parch  Ticket    Fare Cabin Embarked  \n",
              "PassengerId                                        \n",
              "892              0  330911  7.8292   NaN        Q  \n",
              "893              0  363272  7.0000   NaN        S  "
            ]
          },
          "execution_count": 829,
          "metadata": {},
          "output_type": "execute_result"
        }
      ],
      "source": [
        "df_test.head(2)"
      ]
    },
    {
      "cell_type": "code",
      "execution_count": 830,
      "metadata": {},
      "outputs": [
        {
          "data": {
            "text/html": [
              "<div>\n",
              "<style scoped>\n",
              "    .dataframe tbody tr th:only-of-type {\n",
              "        vertical-align: middle;\n",
              "    }\n",
              "\n",
              "    .dataframe tbody tr th {\n",
              "        vertical-align: top;\n",
              "    }\n",
              "\n",
              "    .dataframe thead th {\n",
              "        text-align: right;\n",
              "    }\n",
              "</style>\n",
              "<table border=\"1\" class=\"dataframe\">\n",
              "  <thead>\n",
              "    <tr style=\"text-align: right;\">\n",
              "      <th></th>\n",
              "      <th>PassengerId</th>\n",
              "      <th>Survived</th>\n",
              "    </tr>\n",
              "  </thead>\n",
              "  <tbody>\n",
              "    <tr>\n",
              "      <th>0</th>\n",
              "      <td>892</td>\n",
              "      <td>0</td>\n",
              "    </tr>\n",
              "    <tr>\n",
              "      <th>1</th>\n",
              "      <td>893</td>\n",
              "      <td>1</td>\n",
              "    </tr>\n",
              "  </tbody>\n",
              "</table>\n",
              "</div>"
            ],
            "text/plain": [
              "   PassengerId  Survived\n",
              "0          892         0\n",
              "1          893         1"
            ]
          },
          "execution_count": 830,
          "metadata": {},
          "output_type": "execute_result"
        }
      ],
      "source": [
        "sample_submission.head(2)"
      ]
    },
    {
      "cell_type": "code",
      "execution_count": 831,
      "metadata": {},
      "outputs": [],
      "source": [
        "# Для корректной обработки признаков объединяем трейн и тест в один датасет\n",
        "#df_train['sample'] = 1 # помечаем где у нас трейн\n",
        "#df_test['sample'] = 0 # помечаем где у нас тест\n",
        "#df_test['Survived'] = 0 # в тесте у нас нет значения Survived, мы его должны предсказать, по этому пока просто заполняем нулями\n",
        "\n",
        "#df = df_test.append(df_train, sort=False).reset_index(drop=True) # объединяем\n"
      ]
    },
    {
      "cell_type": "code",
      "execution_count": 832,
      "metadata": {},
      "outputs": [
        {
          "data": {
            "text/plain": [
              "Survived      2\n",
              "Pclass        3\n",
              "Name        891\n",
              "Sex           2\n",
              "Age          89\n",
              "SibSp         7\n",
              "Parch         7\n",
              "Ticket      681\n",
              "Fare        248\n",
              "Cabin       148\n",
              "Embarked      4\n",
              "dtype: int64"
            ]
          },
          "execution_count": 832,
          "metadata": {},
          "output_type": "execute_result"
        }
      ],
      "source": [
        "df_train.nunique(dropna=False)"
      ]
    },
    {
      "cell_type": "markdown",
      "metadata": {
        "id": "HB79CXwFKoYr"
      },
      "source": [
        "Исследование целевого признака survived"
      ]
    },
    {
      "cell_type": "code",
      "execution_count": 833,
      "metadata": {
        "colab": {
          "base_uri": "https://localhost:8080/"
        },
        "id": "tqf0QQZgKoAM",
        "outputId": "f6d1c7d6-860a-4463-e0ad-2df8cc63cfa6"
      },
      "outputs": [
        {
          "data": {
            "text/plain": [
              "['Survived', 'Pclass', 'Age', 'SibSp', 'Parch', 'Fare']"
            ]
          },
          "execution_count": 833,
          "metadata": {},
          "output_type": "execute_result"
        }
      ],
      "source": [
        "types = df_train.dtypes\n",
        "num_features = list(types[(types != 'object')].index)\n",
        "num_features"
      ]
    },
    {
      "cell_type": "code",
      "execution_count": 834,
      "metadata": {
        "colab": {
          "base_uri": "https://localhost:8080/",
          "height": 1000
        },
        "id": "OCSkVlHaLavx",
        "outputId": "6d2af988-74fd-4ba4-b5c5-3a84af8bdc96"
      },
      "outputs": [
        {
          "data": {
            "image/png": "[encoded data removed]",
            "text/plain": [
              "<Figure size 2160x2160 with 12 Axes>"
            ]
          },
          "metadata": {
            "needs_background": "light"
          },
          "output_type": "display_data"
        }
      ],
      "source": [
        "n = len(num_features) #количество числовых признаков\n",
        "fig, axes = plt.subplots (n, 2, figsize = (30, 30))\n",
        "for i, feature in enumerate (num_features):\n",
        "  histplot = sns.histplot(data = df_train, x = feature, ax=axes[i][0])\n",
        "  histplot.set_title('{}hist'.format(feature))\n",
        "  histplot.xaxis.set_tick_params(rotation=45)\n",
        "  regplot = sns.regplot(data = df_train, x = feature, y = 'Survived', ax = axes[i][1])\n",
        "  regplot.set_title('{} VS Survived'.format(feature))\n",
        "  regplot.xaxis.set_tick_params(rotation=45)\n",
        "  plt.tight_layout()\n",
        "                        "
      ]
    },
    {
      "cell_type": "markdown",
      "metadata": {
        "id": "t0iBEO6QOb2U"
      },
      "source": [
        "**Строим тепловую карту для корреляционной матрицы**"
      ]
    },
    {
      "cell_type": "code",
      "execution_count": 835,
      "metadata": {
        "colab": {
          "base_uri": "https://localhost:8080/",
          "height": 341
        },
        "id": "zo1eBaW_OiNE",
        "outputId": "857c9583-9289-40fc-cd79-965e1583ee2b"
      },
      "outputs": [
        {
          "data": {
            "text/plain": [
              "<AxesSubplot:>"
            ]
          },
          "execution_count": 835,
          "metadata": {},
          "output_type": "execute_result"
        },
        {
          "data": {
            "image/png": "[encoded data removed]",
            "text/plain": [
              "<Figure size 864x360 with 2 Axes>"
            ]
          },
          "metadata": {
            "needs_background": "light"
          },
          "output_type": "display_data"
        }
      ],
      "source": [
        "fig = plt.figure(figsize = (12,5))\n",
        "sns.heatmap(df_train.corr(), annot=True)"
      ]
    },
    {
      "cell_type": "markdown",
      "metadata": {},
      "source": [
        "**Работа с признаком Age**"
      ]
    },
    {
      "cell_type": "code",
      "execution_count": 836,
      "metadata": {
        "colab": {
          "base_uri": "https://localhost:8080/",
          "height": 442
        },
        "id": "R-DBkDNeP3QH",
        "outputId": "3a5de20b-72b9-4e4d-8b02-7b81e1980ed7"
      },
      "outputs": [
        {
          "data": {
            "application/vnd.plotly.v1+json": {
              "config": {
                "plotlyServerURL": "https://plot.ly"
              },
              "data": [
                {
                  "alignmentgroup": "True",
                  "bingroup": "x",
                  "histnorm": "percent",
                  "hovertemplate": "Age=%{x}<br>percent=%{y}<extra></extra>",
                  "legendgroup": "",
                  "marker": {
                    "color": "#636efa",
                    "pattern": {
                      "shape": ""
                    }
                  },
                  "name": "",
                  "offsetgroup": "",
                  "orientation": "v",
                  "showlegend": false,
                  "type": "histogram",
                  "x": [
                    22,
                    38,
                    26,
                    35,
                    35,
                    null,
                    54,
                    2,
                    27,
                    14,
                    4,
                    58,
                    20,
                    39,
                    14,
                    55,
                    2,
                    null,
                    31,
                    null,
                    35,
                    34,
                    15,
                    28,
                    8,
                    38,
                    null,
                    19,
                    null,
                    null,
                    40,
                    null,
                    null,
                    66,
                    28,
                    42,
                    null,
                    21,
                    18,
                    14,
                    40,
                    27,
                    null,
                    3,
                    19,
                    null,
                    null,
                    null,
                    null,
                    18,
                    7,
                    21,
                    49,
                    29,
                    65,
                    null,
                    21,
                    28.5,
                    5,
                    11,
                    22,
                    38,
                    45,
                    4,
                    null,
                    null,
                    29,
                    19,
                    17,
                    26,
                    32,
                    16,
                    21,
                    26,
                    32,
                    25,
                    null,
                    null,
                    0.83,
                    30,
                    22,
                    29,
                    null,
                    28,
                    17,
                    33,
                    16,
                    null,
                    23,
                    24,
                    29,
                    20,
                    46,
                    26,
                    59,
                    null,
                    71,
                    23,
                    34,
                    34,
                    28,
                    null,
                    21,
                    33,
                    37,
                    28,
                    21,
                    null,
                    38,
                    null,
                    47,
                    14.5,
                    22,
                    20,
                    17,
                    21,
                    70.5,
                    29,
                    24,
                    2,
                    21,
                    null,
                    32.5,
                    32.5,
                    54,
                    12,
                    null,
                    24,
                    null,
                    45,
                    33,
                    20,
                    47,
                    29,
                    25,
                    23,
                    19,
                    37,
                    16,
                    24,
                    null,
                    22,
                    24,
                    19,
                    18,
                    19,
                    27,
                    9,
                    36.5,
                    42,
                    51,
                    22,
                    55.5,
                    40.5,
                    null,
                    51,
                    16,
                    30,
                    null,
                    null,
                    44,
                    40,
                    26,
                    17,
                    1,
                    9,
                    null,
                    45,
                    null,
                    28,
                    61,
                    4,
                    1,
                    21,
                    56,
                    18,
                    null,
                    50,
                    30,
                    36,
                    null,
                    null,
                    9,
                    1,
                    4,
                    null,
                    null,
                    45,
                    40,
                    36,
                    32,
                    19,
                    19,
                    3,
                    44,
                    58,
                    null,
                    42,
                    null,
                    24,
                    28,
                    null,
                    34,
                    45.5,
                    18,
                    2,
                    32,
                    26,
                    16,
                    40,
                    24,
                    35,
                    22,
                    30,
                    null,
                    31,
                    27,
                    42,
                    32,
                    30,
                    16,
                    27,
                    51,
                    null,
                    38,
                    22,
                    19,
                    20.5,
                    18,
                    null,
                    35,
                    29,
                    59,
                    5,
                    24,
                    null,
                    44,
                    8,
                    19,
                    33,
                    null,
                    null,
                    29,
                    22,
                    30,
                    44,
                    25,
                    24,
                    37,
                    54,
                    null,
                    29,
                    62,
                    30,
                    41,
                    29,
                    null,
                    30,
                    35,
                    50,
                    null,
                    3,
                    52,
                    40,
                    null,
                    36,
                    16,
                    25,
                    58,
                    35,
                    null,
                    25,
                    41,
                    37,
                    null,
                    63,
                    45,
                    null,
                    7,
                    35,
                    65,
                    28,
                    16,
                    19,
                    null,
                    33,
                    30,
                    22,
                    42,
                    22,
                    26,
                    19,
                    36,
                    24,
                    24,
                    null,
                    23.5,
                    2,
                    null,
                    50,
                    null,
                    null,
                    19,
                    null,
                    null,
                    0.92,
                    null,
                    17,
                    30,
                    30,
                    24,
                    18,
                    26,
                    28,
                    43,
                    26,
                    24,
                    54,
                    31,
                    40,
                    22,
                    27,
                    30,
                    22,
                    null,
                    36,
                    61,
                    36,
                    31,
                    16,
                    null,
                    45.5,
                    38,
                    16,
                    null,
                    null,
                    29,
                    41,
                    45,
                    45,
                    2,
                    24,
                    28,
                    25,
                    36,
                    24,
                    40,
                    null,
                    3,
                    42,
                    23,
                    null,
                    15,
                    25,
                    null,
                    28,
                    22,
                    38,
                    null,
                    null,
                    40,
                    29,
                    45,
                    35,
                    null,
                    30,
                    60,
                    null,
                    null,
                    24,
                    25,
                    18,
                    19,
                    22,
                    3,
                    null,
                    22,
                    27,
                    20,
                    19,
                    42,
                    1,
                    32,
                    35,
                    null,
                    18,
                    1,
                    36,
                    null,
                    17,
                    36,
                    21,
                    28,
                    23,
                    24,
                    22,
                    31,
                    46,
                    23,
                    28,
                    39,
                    26,
                    21,
                    28,
                    20,
                    34,
                    51,
                    3,
                    21,
                    null,
                    null,
                    null,
                    33,
                    null,
                    44,
                    null,
                    34,
                    18,
                    30,
                    10,
                    null,
                    21,
                    29,
                    28,
                    18,
                    null,
                    28,
                    19,
                    null,
                    32,
                    28,
                    null,
                    42,
                    17,
                    50,
                    14,
                    21,
                    24,
                    64,
                    31,
                    45,
                    20,
                    25,
                    28,
                    null,
                    4,
                    13,
                    34,
                    5,
                    52,
                    36,
                    null,
                    30,
                    49,
                    null,
                    29,
                    65,
                    null,
                    50,
                    null,
                    48,
                    34,
                    47,
                    48,
                    null,
                    38,
                    null,
                    56,
                    null,
                    0.75,
                    null,
                    38,
                    33,
                    23,
                    22,
                    null,
                    34,
                    29,
                    22,
                    2,
                    9,
                    null,
                    50,
                    63,
                    25,
                    null,
                    35,
                    58,
                    30,
                    9,
                    null,
                    21,
                    55,
                    71,
                    21,
                    null,
                    54,
                    null,
                    25,
                    24,
                    17,
                    21,
                    null,
                    37,
                    16,
                    18,
                    33,
                    null,
                    28,
                    26,
                    29,
                    null,
                    36,
                    54,
                    24,
                    47,
                    34,
                    null,
                    36,
                    32,
                    30,
                    22,
                    null,
                    44,
                    null,
                    40.5,
                    50,
                    null,
                    39,
                    23,
                    2,
                    null,
                    17,
                    null,
                    30,
                    7,
                    45,
                    30,
                    null,
                    22,
                    36,
                    9,
                    11,
                    32,
                    50,
                    64,
                    19,
                    null,
                    33,
                    8,
                    17,
                    27,
                    null,
                    22,
                    22,
                    62,
                    48,
                    null,
                    39,
                    36,
                    null,
                    40,
                    28,
                    null,
                    null,
                    24,
                    19,
                    29,
                    null,
                    32,
                    62,
                    53,
                    36,
                    null,
                    16,
                    19,
                    34,
                    39,
                    null,
                    32,
                    25,
                    39,
                    54,
                    36,
                    null,
                    18,
                    47,
                    60,
                    22,
                    null,
                    35,
                    52,
                    47,
                    null,
                    37,
                    36,
                    null,
                    49,
                    null,
                    49,
                    24,
                    null,
                    null,
                    44,
                    35,
                    36,
                    30,
                    27,
                    22,
                    40,
                    39,
                    null,
                    null,
                    null,
                    35,
                    24,
                    34,
                    26,
                    4,
                    26,
                    27,
                    42,
                    20,
                    21,
                    21,
                    61,
                    57,
                    21,
                    26,
                    null,
                    80,
                    51,
                    32,
                    null,
                    9,
                    28,
                    32,
                    31,
                    41,
                    null,
                    20,
                    24,
                    2,
                    null,
                    0.75,
                    48,
                    19,
                    56,
                    null,
                    23,
                    null,
                    18,
                    21,
                    null,
                    18,
                    24,
                    null,
                    32,
                    23,
                    58,
                    50,
                    40,
                    47,
                    36,
                    20,
                    32,
                    25,
                    null,
                    43,
                    null,
                    40,
                    31,
                    70,
                    31,
                    null,
                    18,
                    24.5,
                    18,
                    43,
                    36,
                    null,
                    27,
                    20,
                    14,
                    60,
                    25,
                    14,
                    19,
                    18,
                    15,
                    31,
                    4,
                    null,
                    25,
                    60,
                    52,
                    44,
                    null,
                    49,
                    42,
                    18,
                    35,
                    18,
                    25,
                    26,
                    39,
                    45,
                    42,
                    22,
                    null,
                    24,
                    null,
                    48,
                    29,
                    52,
                    19,
                    38,
                    27,
                    null,
                    33,
                    6,
                    17,
                    34,
                    50,
                    27,
                    20,
                    30,
                    null,
                    25,
                    25,
                    29,
                    11,
                    null,
                    23,
                    23,
                    28.5,
                    48,
                    35,
                    null,
                    null,
                    null,
                    36,
                    21,
                    24,
                    31,
                    70,
                    16,
                    30,
                    19,
                    31,
                    4,
                    6,
                    33,
                    23,
                    48,
                    0.67,
                    28,
                    18,
                    34,
                    33,
                    null,
                    41,
                    20,
                    36,
                    16,
                    51,
                    null,
                    30.5,
                    null,
                    32,
                    24,
                    48,
                    57,
                    null,
                    54,
                    18,
                    null,
                    5,
                    null,
                    43,
                    13,
                    17,
                    29,
                    null,
                    25,
                    25,
                    18,
                    8,
                    1,
                    46,
                    null,
                    16,
                    null,
                    null,
                    25,
                    39,
                    49,
                    31,
                    30,
                    30,
                    34,
                    31,
                    11,
                    0.42,
                    27,
                    31,
                    39,
                    18,
                    39,
                    33,
                    26,
                    39,
                    35,
                    6,
                    30.5,
                    null,
                    23,
                    31,
                    43,
                    10,
                    52,
                    27,
                    38,
                    27,
                    2,
                    null,
                    null,
                    1,
                    null,
                    62,
                    15,
                    0.83,
                    null,
                    23,
                    18,
                    39,
                    21,
                    null,
                    32,
                    null,
                    20,
                    16,
                    30,
                    34.5,
                    17,
                    42,
                    null,
                    35,
                    28,
                    null,
                    4,
                    74,
                    9,
                    16,
                    44,
                    18,
                    45,
                    51,
                    24,
                    null,
                    41,
                    21,
                    48,
                    null,
                    24,
                    42,
                    27,
                    31,
                    null,
                    4,
                    26,
                    47,
                    33,
                    47,
                    28,
                    15,
                    20,
                    19,
                    null,
                    56,
                    25,
                    33,
                    22,
                    28,
                    25,
                    39,
                    27,
                    19,
                    null,
                    26,
                    32
                  ],
                  "xaxis": "x",
                  "yaxis": "y"
                },
                {
                  "alignmentgroup": "True",
                  "hovertemplate": "Age=%{x}<extra></extra>",
                  "legendgroup": "",
                  "marker": {
                    "color": "#636efa"
                  },
                  "name": "",
                  "notched": true,
                  "offsetgroup": "",
                  "showlegend": false,
                  "type": "box",
                  "x": [
                    22,
                    38,
                    26,
                    35,
                    35,
                    null,
                    54,
                    2,
                    27,
                    14,
                    4,
                    58,
                    20,
                    39,
                    14,
                    55,
                    2,
                    null,
                    31,
                    null,
                    35,
                    34,
                    15,
                    28,
                    8,
                    38,
                    null,
                    19,
                    null,
                    null,
                    40,
                    null,
                    null,
                    66,
                    28,
                    42,
                    null,
                    21,
                    18,
                    14,
                    40,
                    27,
                    null,
                    3,
                    19,
                    null,
                    null,
                    null,
                    null,
                    18,
                    7,
                    21,
                    49,
                    29,
                    65,
                    null,
                    21,
                    28.5,
                    5,
                    11,
                    22,
                    38,
                    45,
                    4,
                    null,
                    null,
                    29,
                    19,
                    17,
                    26,
                    32,
                    16,
                    21,
                    26,
                    32,
                    25,
                    null,
                    null,
                    0.83,
                    30,
                    22,
                    29,
                    null,
                    28,
                    17,
                    33,
                    16,
                    null,
                    23,
                    24,
                    29,
                    20,
                    46,
                    26,
                    59,
                    null,
                    71,
                    23,
                    34,
                    34,
                    28,
                    null,
                    21,
                    33,
                    37,
                    28,
                    21,
                    null,
                    38,
                    null,
                    47,
                    14.5,
                    22,
                    20,
                    17,
                    21,
                    70.5,
                    29,
                    24,
                    2,
                    21,
                    null,
                    32.5,
                    32.5,
                    54,
                    12,
                    null,
                    24,
                    null,
                    45,
                    33,
                    20,
                    47,
                    29,
                    25,
                    23,
                    19,
                    37,
                    16,
                    24,
                    null,
                    22,
                    24,
                    19,
                    18,
                    19,
                    27,
                    9,
                    36.5,
                    42,
                    51,
                    22,
                    55.5,
                    40.5,
                    null,
                    51,
                    16,
                    30,
                    null,
                    null,
                    44,
                    40,
                    26,
                    17,
                    1,
                    9,
                    null,
                    45,
                    null,
                    28,
                    61,
                    4,
                    1,
                    21,
                    56,
                    18,
                    null,
                    50,
                    30,
                    36,
                    null,
                    null,
                    9,
                    1,
                    4,
                    null,
                    null,
                    45,
                    40,
                    36,
                    32,
                    19,
                    19,
                    3,
                    44,
                    58,
                    null,
                    42,
                    null,
                    24,
                    28,
                    null,
                    34,
                    45.5,
                    18,
                    2,
                    32,
                    26,
                    16,
                    40,
                    24,
                    35,
                    22,
                    30,
                    null,
                    31,
                    27,
                    42,
                    32,
                    30,
                    16,
                    27,
                    51,
                    null,
                    38,
                    22,
                    19,
                    20.5,
                    18,
                    null,
                    35,
                    29,
                    59,
                    5,
                    24,
                    null,
                    44,
                    8,
                    19,
                    33,
                    null,
                    null,
                    29,
                    22,
                    30,
                    44,
                    25,
                    24,
                    37,
                    54,
                    null,
                    29,
                    62,
                    30,
                    41,
                    29,
                    null,
                    30,
                    35,
                    50,
                    null,
                    3,
                    52,
                    40,
                    null,
                    36,
                    16,
                    25,
                    58,
                    35,
                    null,
                    25,
                    41,
                    37,
                    null,
                    63,
                    45,
                    null,
                    7,
                    35,
                    65,
                    28,
                    16,
                    19,
                    null,
                    33,
                    30,
                    22,
                    42,
                    22,
                    26,
                    19,
                    36,
                    24,
                    24,
                    null,
                    23.5,
                    2,
                    null,
                    50,
                    null,
                    null,
                    19,
                    null,
                    null,
                    0.92,
                    null,
                    17,
                    30,
                    30,
                    24,
                    18,
                    26,
                    28,
                    43,
                    26,
                    24,
                    54,
                    31,
                    40,
                    22,
                    27,
                    30,
                    22,
                    null,
                    36,
                    61,
                    36,
                    31,
                    16,
                    null,
                    45.5,
                    38,
                    16,
                    null,
                    null,
                    29,
                    41,
                    45,
                    45,
                    2,
                    24,
                    28,
                    25,
                    36,
                    24,
                    40,
                    null,
                    3,
                    42,
                    23,
                    null,
                    15,
                    25,
                    null,
                    28,
                    22,
                    38,
                    null,
                    null,
                    40,
                    29,
                    45,
                    35,
                    null,
                    30,
                    60,
                    null,
                    null,
                    24,
                    25,
                    18,
                    19,
                    22,
                    3,
                    null,
                    22,
                    27,
                    20,
                    19,
                    42,
                    1,
                    32,
                    35,
                    null,
                    18,
                    1,
                    36,
                    null,
                    17,
                    36,
                    21,
                    28,
                    23,
                    24,
                    22,
                    31,
                    46,
                    23,
                    28,
                    39,
                    26,
                    21,
                    28,
                    20,
                    34,
                    51,
                    3,
                    21,
                    null,
                    null,
                    null,
                    33,
                    null,
                    44,
                    null,
                    34,
                    18,
                    30,
                    10,
                    null,
                    21,
                    29,
                    28,
                    18,
                    null,
                    28,
                    19,
                    null,
                    32,
                    28,
                    null,
                    42,
                    17,
                    50,
                    14,
                    21,
                    24,
                    64,
                    31,
                    45,
                    20,
                    25,
                    28,
                    null,
                    4,
                    13,
                    34,
                    5,
                    52,
                    36,
                    null,
                    30,
                    49,
                    null,
                    29,
                    65,
                    null,
                    50,
                    null,
                    48,
                    34,
                    47,
                    48,
                    null,
                    38,
                    null,
                    56,
                    null,
                    0.75,
                    null,
                    38,
                    33,
                    23,
                    22,
                    null,
                    34,
                    29,
                    22,
                    2,
                    9,
                    null,
                    50,
                    63,
                    25,
                    null,
                    35,
                    58,
                    30,
                    9,
                    null,
                    21,
                    55,
                    71,
                    21,
                    null,
                    54,
                    null,
                    25,
                    24,
                    17,
                    21,
                    null,
                    37,
                    16,
                    18,
                    33,
                    null,
                    28,
                    26,
                    29,
                    null,
                    36,
                    54,
                    24,
                    47,
                    34,
                    null,
                    36,
                    32,
                    30,
                    22,
                    null,
                    44,
                    null,
                    40.5,
                    50,
                    null,
                    39,
                    23,
                    2,
                    null,
                    17,
                    null,
                    30,
                    7,
                    45,
                    30,
                    null,
                    22,
                    36,
                    9,
                    11,
                    32,
                    50,
                    64,
                    19,
                    null,
                    33,
                    8,
                    17,
                    27,
                    null,
                    22,
                    22,
                    62,
                    48,
                    null,
                    39,
                    36,
                    null,
                    40,
                    28,
                    null,
                    null,
                    24,
                    19,
                    29,
                    null,
                    32,
                    62,
                    53,
                    36,
                    null,
                    16,
                    19,
                    34,
                    39,
                    null,
                    32,
                    25,
                    39,
                    54,
                    36,
                    null,
                    18,
                    47,
                    60,
                    22,
                    null,
                    35,
                    52,
                    47,
                    null,
                    37,
                    36,
                    null,
                    49,
                    null,
                    49,
                    24,
                    null,
                    null,
                    44,
                    35,
                    36,
                    30,
                    27,
                    22,
                    40,
                    39,
                    null,
                    null,
                    null,
                    35,
                    24,
                    34,
                    26,
                    4,
                    26,
                    27,
                    42,
                    20,
                    21,
                    21,
                    61,
                    57,
                    21,
                    26,
                    null,
                    80,
                    51,
                    32,
                    null,
                    9,
                    28,
                    32,
                    31,
                    41,
                    null,
                    20,
                    24,
                    2,
                    null,
                    0.75,
                    48,
                    19,
                    56,
                    null,
                    23,
                    null,
                    18,
                    21,
                    null,
                    18,
                    24,
                    null,
                    32,
                    23,
                    58,
                    50,
                    40,
                    47,
                    36,
                    20,
                    32,
                    25,
                    null,
                    43,
                    null,
                    40,
                    31,
                    70,
                    31,
                    null,
                    18,
                    24.5,
                    18,
                    43,
                    36,
                    null,
                    27,
                    20,
                    14,
                    60,
                    25,
                    14,
                    19,
                    18,
                    15,
                    31,
                    4,
                    null,
                    25,
                    60,
                    52,
                    44,
                    null,
                    49,
                    42,
                    18,
                    35,
                    18,
                    25,
                    26,
                    39,
                    45,
                    42,
                    22,
                    null,
                    24,
                    null,
                    48,
                    29,
                    52,
                    19,
                    38,
                    27,
                    null,
                    33,
                    6,
                    17,
                    34,
                    50,
                    27,
                    20,
                    30,
                    null,
                    25,
                    25,
                    29,
                    11,
                    null,
                    23,
                    23,
                    28.5,
                    48,
                    35,
                    null,
                    null,
                    null,
                    36,
                    21,
                    24,
                    31,
                    70,
                    16,
                    30,
                    19,
                    31,
                    4,
                    6,
                    33,
                    23,
                    48,
                    0.67,
                    28,
                    18,
                    34,
                    33,
                    null,
                    41,
                    20,
                    36,
                    16,
                    51,
                    null,
                    30.5,
                    null,
                    32,
                    24,
                    48,
                    57,
                    null,
                    54,
                    18,
                    null,
                    5,
                    null,
                    43,
                    13,
                    17,
                    29,
                    null,
                    25,
                    25,
                    18,
                    8,
                    1,
                    46,
                    null,
                    16,
                    null,
                    null,
                    25,
                    39,
                    49,
                    31,
                    30,
                    30,
                    34,
                    31,
                    11,
                    0.42,
                    27,
                    31,
                    39,
                    18,
                    39,
                    33,
                    26,
                    39,
                    35,
                    6,
                    30.5,
                    null,
                    23,
                    31,
                    43,
                    10,
                    52,
                    27,
                    38,
                    27,
                    2,
                    null,
                    null,
                    1,
                    null,
                    62,
                    15,
                    0.83,
                    null,
                    23,
                    18,
                    39,
                    21,
                    null,
                    32,
                    null,
                    20,
                    16,
                    30,
                    34.5,
                    17,
                    42,
                    null,
                    35,
                    28,
                    null,
                    4,
                    74,
                    9,
                    16,
                    44,
                    18,
                    45,
                    51,
                    24,
                    null,
                    41,
                    21,
                    48,
                    null,
                    24,
                    42,
                    27,
                    31,
                    null,
                    4,
                    26,
                    47,
                    33,
                    47,
                    28,
                    15,
                    20,
                    19,
                    null,
                    56,
                    25,
                    33,
                    22,
                    28,
                    25,
                    39,
                    27,
                    19,
                    null,
                    26,
                    32
                  ],
                  "xaxis": "x2",
                  "yaxis": "y2"
                }
              ],
              "layout": {
                "barmode": "relative",
                "legend": {
                  "tracegroupgap": 0
                },
                "template": {
                  "data": {
                    "bar": [
                      {
                        "error_x": {
                          "color": "#2a3f5f"
                        },
                        "error_y": {
                          "color": "#2a3f5f"
                        },
                        "marker": {
                          "line": {
                            "color": "#E5ECF6",
                            "width": 0.5
                          },
                          "pattern": {
                            "fillmode": "overlay",
                            "size": 10,
                            "solidity": 0.2
                          }
                        },
                        "type": "bar"
                      }
                    ],
                    "barpolar": [
                      {
                        "marker": {
                          "line": {
                            "color": "#E5ECF6",
                            "width": 0.5
                          },
                          "pattern": {
                            "fillmode": "overlay",
                            "size": 10,
                            "solidity": 0.2
                          }
                        },
                        "type": "barpolar"
                      }
                    ],
                    "carpet": [
                      {
                        "aaxis": {
                          "endlinecolor": "#2a3f5f",
                          "gridcolor": "white",
                          "linecolor": "white",
                          "minorgridcolor": "white",
                          "startlinecolor": "#2a3f5f"
                        },
                        "baxis": {
                          "endlinecolor": "#2a3f5f",
                          "gridcolor": "white",
                          "linecolor": "white",
                          "minorgridcolor": "white",
                          "startlinecolor": "#2a3f5f"
                        },
                        "type": "carpet"
                      }
                    ],
                    "choropleth": [
                      {
                        "colorbar": {
                          "outlinewidth": 0,
                          "ticks": ""
                        },
                        "type": "choropleth"
                      }
                    ],
                    "contour": [
                      {
                        "colorbar": {
                          "outlinewidth": 0,
                          "ticks": ""
                        },
                        "colorscale": [
                          [
                            0,
                            "#0d0887"
                          ],
                          [
                            0.1111111111111111,
                            "#46039f"
                          ],
                          [
                            0.2222222222222222,
                            "#7201a8"
                          ],
                          [
                            0.3333333333333333,
                            "#9c179e"
                          ],
                          [
                            0.4444444444444444,
                            "#bd3786"
                          ],
                          [
                            0.5555555555555556,
                            "#d8576b"
                          ],
                          [
                            0.6666666666666666,
                            "#ed7953"
                          ],
                          [
                            0.7777777777777778,
                            "#fb9f3a"
                          ],
                          [
                            0.8888888888888888,
                            "#fdca26"
                          ],
                          [
                            1,
                            "#f0f921"
                          ]
                        ],
                        "type": "contour"
                      }
                    ],
                    "contourcarpet": [
                      {
                        "colorbar": {
                          "outlinewidth": 0,
                          "ticks": ""
                        },
                        "type": "contourcarpet"
                      }
                    ],
                    "heatmap": [
                      {
                        "colorbar": {
                          "outlinewidth": 0,
                          "ticks": ""
                        },
                        "colorscale": [
                          [
                            0,
                            "#0d0887"
                          ],
                          [
                            0.1111111111111111,
                            "#46039f"
                          ],
                          [
                            0.2222222222222222,
                            "#7201a8"
                          ],
                          [
                            0.3333333333333333,
                            "#9c179e"
                          ],
                          [
                            0.4444444444444444,
                            "#bd3786"
                          ],
                          [
                            0.5555555555555556,
                            "#d8576b"
                          ],
                          [
                            0.6666666666666666,
                            "#ed7953"
                          ],
                          [
                            0.7777777777777778,
                            "#fb9f3a"
                          ],
                          [
                            0.8888888888888888,
                            "#fdca26"
                          ],
                          [
                            1,
                            "#f0f921"
                          ]
                        ],
                        "type": "heatmap"
                      }
                    ],
                    "heatmapgl": [
                      {
                        "colorbar": {
                          "outlinewidth": 0,
                          "ticks": ""
                        },
                        "colorscale": [
                          [
                            0,
                            "#0d0887"
                          ],
                          [
                            0.1111111111111111,
                            "#46039f"
                          ],
                          [
                            0.2222222222222222,
                            "#7201a8"
                          ],
                          [
                            0.3333333333333333,
                            "#9c179e"
                          ],
                          [
                            0.4444444444444444,
                            "#bd3786"
                          ],
                          [
                            0.5555555555555556,
                            "#d8576b"
                          ],
                          [
                            0.6666666666666666,
                            "#ed7953"
                          ],
                          [
                            0.7777777777777778,
                            "#fb9f3a"
                          ],
                          [
                            0.8888888888888888,
                            "#fdca26"
                          ],
                          [
                            1,
                            "#f0f921"
                          ]
                        ],
                        "type": "heatmapgl"
                      }
                    ],
                    "histogram": [
                      {
                        "marker": {
                          "pattern": {
                            "fillmode": "overlay",
                            "size": 10,
                            "solidity": 0.2
                          }
                        },
                        "type": "histogram"
                      }
                    ],
                    "histogram2d": [
                      {
                        "colorbar": {
                          "outlinewidth": 0,
                          "ticks": ""
                        },
                        "colorscale": [
                          [
                            0,
                            "#0d0887"
                          ],
                          [
                            0.1111111111111111,
                            "#46039f"
                          ],
                          [
                            0.2222222222222222,
                            "#7201a8"
                          ],
                          [
                            0.3333333333333333,
                            "#9c179e"
                          ],
                          [
                            0.4444444444444444,
                            "#bd3786"
                          ],
                          [
                            0.5555555555555556,
                            "#d8576b"
                          ],
                          [
                            0.6666666666666666,
                            "#ed7953"
                          ],
                          [
                            0.7777777777777778,
                            "#fb9f3a"
                          ],
                          [
                            0.8888888888888888,
                            "#fdca26"
                          ],
                          [
                            1,
                            "#f0f921"
                          ]
                        ],
                        "type": "histogram2d"
                      }
                    ],
                    "histogram2dcontour": [
                      {
                        "colorbar": {
                          "outlinewidth": 0,
                          "ticks": ""
                        },
                        "colorscale": [
                          [
                            0,
                            "#0d0887"
                          ],
                          [
                            0.1111111111111111,
                            "#46039f"
                          ],
                          [
                            0.2222222222222222,
                            "#7201a8"
                          ],
                          [
                            0.3333333333333333,
                            "#9c179e"
                          ],
                          [
                            0.4444444444444444,
                            "#bd3786"
                          ],
                          [
                            0.5555555555555556,
                            "#d8576b"
                          ],
                          [
                            0.6666666666666666,
                            "#ed7953"
                          ],
                          [
                            0.7777777777777778,
                            "#fb9f3a"
                          ],
                          [
                            0.8888888888888888,
                            "#fdca26"
                          ],
                          [
                            1,
                            "#f0f921"
                          ]
                        ],
                        "type": "histogram2dcontour"
                      }
                    ],
                    "mesh3d": [
                      {
                        "colorbar": {
                          "outlinewidth": 0,
                          "ticks": ""
                        },
                        "type": "mesh3d"
                      }
                    ],
                    "parcoords": [
                      {
                        "line": {
                          "colorbar": {
                            "outlinewidth": 0,
                            "ticks": ""
                          }
                        },
                        "type": "parcoords"
                      }
                    ],
                    "pie": [
                      {
                        "automargin": true,
                        "type": "pie"
                      }
                    ],
                    "scatter": [
                      {
                        "fillpattern": {
                          "fillmode": "overlay",
                          "size": 10,
                          "solidity": 0.2
                        },
                        "type": "scatter"
                      }
                    ],
                    "scatter3d": [
                      {
                        "line": {
                          "colorbar": {
                            "outlinewidth": 0,
                            "ticks": ""
                          }
                        },
                        "marker": {
                          "colorbar": {
                            "outlinewidth": 0,
                            "ticks": ""
                          }
                        },
                        "type": "scatter3d"
                      }
                    ],
                    "scattercarpet": [
                      {
                        "marker": {
                          "colorbar": {
                            "outlinewidth": 0,
                            "ticks": ""
                          }
                        },
                        "type": "scattercarpet"
                      }
                    ],
                    "scattergeo": [
                      {
                        "marker": {
                          "colorbar": {
                            "outlinewidth": 0,
                            "ticks": ""
                          }
                        },
                        "type": "scattergeo"
                      }
                    ],
                    "scattergl": [
                      {
                        "marker": {
                          "colorbar": {
                            "outlinewidth": 0,
                            "ticks": ""
                          }
                        },
                        "type": "scattergl"
                      }
                    ],
                    "scattermapbox": [
                      {
                        "marker": {
                          "colorbar": {
                            "outlinewidth": 0,
                            "ticks": ""
                          }
                        },
                        "type": "scattermapbox"
                      }
                    ],
                    "scatterpolar": [
                      {
                        "marker": {
                          "colorbar": {
                            "outlinewidth": 0,
                            "ticks": ""
                          }
                        },
                        "type": "scatterpolar"
                      }
                    ],
                    "scatterpolargl": [
                      {
                        "marker": {
                          "colorbar": {
                            "outlinewidth": 0,
                            "ticks": ""
                          }
                        },
                        "type": "scatterpolargl"
                      }
                    ],
                    "scatterternary": [
                      {
                        "marker": {
                          "colorbar": {
                            "outlinewidth": 0,
                            "ticks": ""
                          }
                        },
                        "type": "scatterternary"
                      }
                    ],
                    "surface": [
                      {
                        "colorbar": {
                          "outlinewidth": 0,
                          "ticks": ""
                        },
                        "colorscale": [
                          [
                            0,
                            "#0d0887"
                          ],
                          [
                            0.1111111111111111,
                            "#46039f"
                          ],
                          [
                            0.2222222222222222,
                            "#7201a8"
                          ],
                          [
                            0.3333333333333333,
                            "#9c179e"
                          ],
                          [
                            0.4444444444444444,
                            "#bd3786"
                          ],
                          [
                            0.5555555555555556,
                            "#d8576b"
                          ],
                          [
                            0.6666666666666666,
                            "#ed7953"
                          ],
                          [
                            0.7777777777777778,
                            "#fb9f3a"
                          ],
                          [
                            0.8888888888888888,
                            "#fdca26"
                          ],
                          [
                            1,
                            "#f0f921"
                          ]
                        ],
                        "type": "surface"
                      }
                    ],
                    "table": [
                      {
                        "cells": {
                          "fill": {
                            "color": "#EBF0F8"
                          },
                          "line": {
                            "color": "white"
                          }
                        },
                        "header": {
                          "fill": {
                            "color": "#C8D4E3"
                          },
                          "line": {
                            "color": "white"
                          }
                        },
                        "type": "table"
                      }
                    ]
                  },
                  "layout": {
                    "annotationdefaults": {
                      "arrowcolor": "#2a3f5f",
                      "arrowhead": 0,
                      "arrowwidth": 1
                    },
                    "autotypenumbers": "strict",
                    "coloraxis": {
                      "colorbar": {
                        "outlinewidth": 0,
                        "ticks": ""
                      }
                    },
                    "colorscale": {
                      "diverging": [
                        [
                          0,
                          "#8e0152"
                        ],
                        [
                          0.1,
                          "#c51b7d"
                        ],
                        [
                          0.2,
                          "#de77ae"
                        ],
                        [
                          0.3,
                          "#f1b6da"
                        ],
                        [
                          0.4,
                          "#fde0ef"
                        ],
                        [
                          0.5,
                          "#f7f7f7"
                        ],
                        [
                          0.6,
                          "#e6f5d0"
                        ],
                        [
                          0.7,
                          "#b8e186"
                        ],
                        [
                          0.8,
                          "#7fbc41"
                        ],
                        [
                          0.9,
                          "#4d9221"
                        ],
                        [
                          1,
                          "#276419"
                        ]
                      ],
                      "sequential": [
                        [
                          0,
                          "#0d0887"
                        ],
                        [
                          0.1111111111111111,
                          "#46039f"
                        ],
                        [
                          0.2222222222222222,
                          "#7201a8"
                        ],
                        [
                          0.3333333333333333,
                          "#9c179e"
                        ],
                        [
                          0.4444444444444444,
                          "#bd3786"
                        ],
                        [
                          0.5555555555555556,
                          "#d8576b"
                        ],
                        [
                          0.6666666666666666,
                          "#ed7953"
                        ],
                        [
                          0.7777777777777778,
                          "#fb9f3a"
                        ],
                        [
                          0.8888888888888888,
                          "#fdca26"
                        ],
                        [
                          1,
                          "#f0f921"
                        ]
                      ],
                      "sequentialminus": [
                        [
                          0,
                          "#0d0887"
                        ],
                        [
                          0.1111111111111111,
                          "#46039f"
                        ],
                        [
                          0.2222222222222222,
                          "#7201a8"
                        ],
                        [
                          0.3333333333333333,
                          "#9c179e"
                        ],
                        [
                          0.4444444444444444,
                          "#bd3786"
                        ],
                        [
                          0.5555555555555556,
                          "#d8576b"
                        ],
                        [
                          0.6666666666666666,
                          "#ed7953"
                        ],
                        [
                          0.7777777777777778,
                          "#fb9f3a"
                        ],
                        [
                          0.8888888888888888,
                          "#fdca26"
                        ],
                        [
                          1,
                          "#f0f921"
                        ]
                      ]
                    },
                    "colorway": [
                      "#636efa",
                      "#EF553B",
                      "#00cc96",
                      "#ab63fa",
                      "#FFA15A",
                      "#19d3f3",
                      "#FF6692",
                      "#B6E880",
                      "#FF97FF",
                      "#FECB52"
                    ],
                    "font": {
                      "color": "#2a3f5f"
                    },
                    "geo": {
                      "bgcolor": "white",
                      "lakecolor": "white",
                      "landcolor": "#E5ECF6",
                      "showlakes": true,
                      "showland": true,
                      "subunitcolor": "white"
                    },
                    "hoverlabel": {
                      "align": "left"
                    },
                    "hovermode": "closest",
                    "mapbox": {
                      "style": "light"
                    },
                    "paper_bgcolor": "white",
                    "plot_bgcolor": "#E5ECF6",
                    "polar": {
                      "angularaxis": {
                        "gridcolor": "white",
                        "linecolor": "white",
                        "ticks": ""
                      },
                      "bgcolor": "#E5ECF6",
                      "radialaxis": {
                        "gridcolor": "white",
                        "linecolor": "white",
                        "ticks": ""
                      }
                    },
                    "scene": {
                      "xaxis": {
                        "backgroundcolor": "#E5ECF6",
                        "gridcolor": "white",
                        "gridwidth": 2,
                        "linecolor": "white",
                        "showbackground": true,
                        "ticks": "",
                        "zerolinecolor": "white"
                      },
                      "yaxis": {
                        "backgroundcolor": "#E5ECF6",
                        "gridcolor": "white",
                        "gridwidth": 2,
                        "linecolor": "white",
                        "showbackground": true,
                        "ticks": "",
                        "zerolinecolor": "white"
                      },
                      "zaxis": {
                        "backgroundcolor": "#E5ECF6",
                        "gridcolor": "white",
                        "gridwidth": 2,
                        "linecolor": "white",
                        "showbackground": true,
                        "ticks": "",
                        "zerolinecolor": "white"
                      }
                    },
                    "shapedefaults": {
                      "line": {
                        "color": "#2a3f5f"
                      }
                    },
                    "ternary": {
                      "aaxis": {
                        "gridcolor": "white",
                        "linecolor": "white",
                        "ticks": ""
                      },
                      "baxis": {
                        "gridcolor": "white",
                        "linecolor": "white",
                        "ticks": ""
                      },
                      "bgcolor": "#E5ECF6",
                      "caxis": {
                        "gridcolor": "white",
                        "linecolor": "white",
                        "ticks": ""
                      }
                    },
                    "title": {
                      "x": 0.05
                    },
                    "xaxis": {
                      "automargin": true,
                      "gridcolor": "white",
                      "linecolor": "white",
                      "ticks": "",
                      "title": {
                        "standoff": 15
                      },
                      "zerolinecolor": "white",
                      "zerolinewidth": 2
                    },
                    "yaxis": {
                      "automargin": true,
                      "gridcolor": "white",
                      "linecolor": "white",
                      "ticks": "",
                      "title": {
                        "standoff": 15
                      },
                      "zerolinecolor": "white",
                      "zerolinewidth": 2
                    }
                  }
                },
                "title": {
                  "text": "Распределение возраста пассажиров"
                },
                "width": 1000,
                "xaxis": {
                  "anchor": "y",
                  "domain": [
                    0,
                    1
                  ],
                  "title": {
                    "text": "Age"
                  }
                },
                "xaxis2": {
                  "anchor": "y2",
                  "domain": [
                    0,
                    1
                  ],
                  "matches": "x",
                  "showgrid": true,
                  "showticklabels": false
                },
                "yaxis": {
                  "anchor": "x",
                  "domain": [
                    0,
                    0.8316
                  ],
                  "title": {
                    "text": "percent"
                  }
                },
                "yaxis2": {
                  "anchor": "x2",
                  "domain": [
                    0.8416,
                    1
                  ],
                  "matches": "y2",
                  "showgrid": false,
                  "showline": false,
                  "showticklabels": false,
                  "ticks": ""
                }
              }
            }
          },
          "metadata": {},
          "output_type": "display_data"
        },
        {
          "data": {
            "image/png": "[encoded data removed]",
            "text/plain": [
              "<Figure size 720x504 with 1 Axes>"
            ]
          },
          "metadata": {
            "needs_background": "light"
          },
          "output_type": "display_data"
        }
      ],
      "source": [
        "#Работа с признаком Age - выясняем есть ли выбросы и пропуски\n",
        "fig = plt.figure(figsize = (10, 7))\n",
        "boxplot = sns.boxplot(data =df_train, y = 'Age', x = 'Survived', width = 0.9)\n",
        "\n",
        "fig = px.histogram(\n",
        "    data_frame=df_train,\n",
        "    x='Age',\n",
        "    title='Распределение возраста пассажиров',\n",
        "    histnorm='percent',\n",
        "    width=1000,\n",
        "    marginal='box'\n",
        "    )\n",
        "fig.show()"
      ]
    },
    {
      "cell_type": "code",
      "execution_count": 837,
      "metadata": {},
      "outputs": [
        {
          "data": {
            "text/plain": [
              "Survived    0.000000\n",
              "Pclass      0.000000\n",
              "Name        0.000000\n",
              "Sex         0.000000\n",
              "Age         0.000000\n",
              "SibSp       0.000000\n",
              "Parch       0.000000\n",
              "Ticket      0.000000\n",
              "Fare        0.000000\n",
              "Cabin       0.771044\n",
              "Embarked    0.002245\n",
              "dtype: float64"
            ]
          },
          "execution_count": 837,
          "metadata": {},
          "output_type": "execute_result"
        }
      ],
      "source": [
        "#Заполняем модальным значением признак возраста в датасете трейн\n",
        "values = {'Age': df_train['Age'].median()}\n",
        "df_train = df_train.fillna(values)\n",
        "df_train.isnull().mean()"
      ]
    },
    {
      "cell_type": "code",
      "execution_count": 838,
      "metadata": {},
      "outputs": [
        {
          "data": {
            "text/plain": [
              "Pclass      0.000000\n",
              "Name        0.000000\n",
              "Sex         0.000000\n",
              "Age         0.000000\n",
              "SibSp       0.000000\n",
              "Parch       0.000000\n",
              "Ticket      0.000000\n",
              "Fare        0.002392\n",
              "Cabin       0.782297\n",
              "Embarked    0.000000\n",
              "dtype: float64"
            ]
          },
          "execution_count": 838,
          "metadata": {},
          "output_type": "execute_result"
        }
      ],
      "source": [
        "#Заменяем пропуски в тестовом датасете\n",
        "values_test = {'Age': df_test['Age'].median()}\n",
        "df_test = df_test.fillna(values_test)\n",
        "df_test.isnull().mean()"
      ]
    },
    {
      "cell_type": "code",
      "execution_count": 839,
      "metadata": {},
      "outputs": [],
      "source": [
        "#Кодируем признак Age по группам - возрастам\n",
        "#def func(arg): \n",
        "    #if arg <18:\n",
        "        #return '1'\n",
        "    #elif 18<arg <50:\n",
        "        #return '2'\n",
        "    #elif arg >50:\n",
        "        #return '3'\n",
        "  \n",
        "    \n",
        "        \n",
        "#df_train['Age_group'] = df_train['Age'].apply(func) \n",
        "#df_train = df_train.drop('Age', axis = 1)\n",
        "#df_test['Age_group'] = df_test['Age'].apply(func) \n",
        "#df_test = df_test.drop('Age', axis = 1)\n",
        "#df_train.isnull().sum()\n",
        "#values_1 = {'Age_group': df['Age_group'].mode()[0]}\n",
        "#df = df.fillna(values_1)\n",
        "#df"
      ]
    },
    {
      "cell_type": "code",
      "execution_count": 840,
      "metadata": {
        "colab": {
          "base_uri": "https://localhost:8080/",
          "height": 424
        },
        "id": "zfjh3sTlSSjB",
        "outputId": "70591d08-143d-4c75-8ca1-075ed35a8fa5"
      },
      "outputs": [
        {
          "data": {
            "text/html": [
              "<div>\n",
              "<style scoped>\n",
              "    .dataframe tbody tr th:only-of-type {\n",
              "        vertical-align: middle;\n",
              "    }\n",
              "\n",
              "    .dataframe tbody tr th {\n",
              "        vertical-align: top;\n",
              "    }\n",
              "\n",
              "    .dataframe thead th {\n",
              "        text-align: right;\n",
              "    }\n",
              "</style>\n",
              "<table border=\"1\" class=\"dataframe\">\n",
              "  <thead>\n",
              "    <tr style=\"text-align: right;\">\n",
              "      <th></th>\n",
              "      <th>Survived</th>\n",
              "      <th>Pclass</th>\n",
              "      <th>Sex</th>\n",
              "      <th>Age</th>\n",
              "      <th>SibSp</th>\n",
              "      <th>Parch</th>\n",
              "      <th>Fare</th>\n",
              "      <th>Embarked</th>\n",
              "    </tr>\n",
              "    <tr>\n",
              "      <th>PassengerId</th>\n",
              "      <th></th>\n",
              "      <th></th>\n",
              "      <th></th>\n",
              "      <th></th>\n",
              "      <th></th>\n",
              "      <th></th>\n",
              "      <th></th>\n",
              "      <th></th>\n",
              "    </tr>\n",
              "  </thead>\n",
              "  <tbody>\n",
              "    <tr>\n",
              "      <th>1</th>\n",
              "      <td>0</td>\n",
              "      <td>3</td>\n",
              "      <td>male</td>\n",
              "      <td>22.0</td>\n",
              "      <td>1</td>\n",
              "      <td>0</td>\n",
              "      <td>7.2500</td>\n",
              "      <td>S</td>\n",
              "    </tr>\n",
              "    <tr>\n",
              "      <th>2</th>\n",
              "      <td>1</td>\n",
              "      <td>1</td>\n",
              "      <td>female</td>\n",
              "      <td>38.0</td>\n",
              "      <td>1</td>\n",
              "      <td>0</td>\n",
              "      <td>71.2833</td>\n",
              "      <td>C</td>\n",
              "    </tr>\n",
              "    <tr>\n",
              "      <th>3</th>\n",
              "      <td>1</td>\n",
              "      <td>3</td>\n",
              "      <td>female</td>\n",
              "      <td>26.0</td>\n",
              "      <td>0</td>\n",
              "      <td>0</td>\n",
              "      <td>7.9250</td>\n",
              "      <td>S</td>\n",
              "    </tr>\n",
              "    <tr>\n",
              "      <th>4</th>\n",
              "      <td>1</td>\n",
              "      <td>1</td>\n",
              "      <td>female</td>\n",
              "      <td>35.0</td>\n",
              "      <td>1</td>\n",
              "      <td>0</td>\n",
              "      <td>53.1000</td>\n",
              "      <td>S</td>\n",
              "    </tr>\n",
              "    <tr>\n",
              "      <th>5</th>\n",
              "      <td>0</td>\n",
              "      <td>3</td>\n",
              "      <td>male</td>\n",
              "      <td>35.0</td>\n",
              "      <td>0</td>\n",
              "      <td>0</td>\n",
              "      <td>8.0500</td>\n",
              "      <td>S</td>\n",
              "    </tr>\n",
              "    <tr>\n",
              "      <th>...</th>\n",
              "      <td>...</td>\n",
              "      <td>...</td>\n",
              "      <td>...</td>\n",
              "      <td>...</td>\n",
              "      <td>...</td>\n",
              "      <td>...</td>\n",
              "      <td>...</td>\n",
              "      <td>...</td>\n",
              "    </tr>\n",
              "    <tr>\n",
              "      <th>887</th>\n",
              "      <td>0</td>\n",
              "      <td>2</td>\n",
              "      <td>male</td>\n",
              "      <td>27.0</td>\n",
              "      <td>0</td>\n",
              "      <td>0</td>\n",
              "      <td>13.0000</td>\n",
              "      <td>S</td>\n",
              "    </tr>\n",
              "    <tr>\n",
              "      <th>888</th>\n",
              "      <td>1</td>\n",
              "      <td>1</td>\n",
              "      <td>female</td>\n",
              "      <td>19.0</td>\n",
              "      <td>0</td>\n",
              "      <td>0</td>\n",
              "      <td>30.0000</td>\n",
              "      <td>S</td>\n",
              "    </tr>\n",
              "    <tr>\n",
              "      <th>889</th>\n",
              "      <td>0</td>\n",
              "      <td>3</td>\n",
              "      <td>female</td>\n",
              "      <td>28.0</td>\n",
              "      <td>1</td>\n",
              "      <td>2</td>\n",
              "      <td>23.4500</td>\n",
              "      <td>S</td>\n",
              "    </tr>\n",
              "    <tr>\n",
              "      <th>890</th>\n",
              "      <td>1</td>\n",
              "      <td>1</td>\n",
              "      <td>male</td>\n",
              "      <td>26.0</td>\n",
              "      <td>0</td>\n",
              "      <td>0</td>\n",
              "      <td>30.0000</td>\n",
              "      <td>C</td>\n",
              "    </tr>\n",
              "    <tr>\n",
              "      <th>891</th>\n",
              "      <td>0</td>\n",
              "      <td>3</td>\n",
              "      <td>male</td>\n",
              "      <td>32.0</td>\n",
              "      <td>0</td>\n",
              "      <td>0</td>\n",
              "      <td>7.7500</td>\n",
              "      <td>Q</td>\n",
              "    </tr>\n",
              "  </tbody>\n",
              "</table>\n",
              "<p>891 rows × 8 columns</p>\n",
              "</div>"
            ],
            "text/plain": [
              "             Survived  Pclass     Sex   Age  SibSp  Parch     Fare Embarked\n",
              "PassengerId                                                                \n",
              "1                   0       3    male  22.0      1      0   7.2500        S\n",
              "2                   1       1  female  38.0      1      0  71.2833        C\n",
              "3                   1       3  female  26.0      0      0   7.9250        S\n",
              "4                   1       1  female  35.0      1      0  53.1000        S\n",
              "5                   0       3    male  35.0      0      0   8.0500        S\n",
              "...               ...     ...     ...   ...    ...    ...      ...      ...\n",
              "887                 0       2    male  27.0      0      0  13.0000        S\n",
              "888                 1       1  female  19.0      0      0  30.0000        S\n",
              "889                 0       3  female  28.0      1      2  23.4500        S\n",
              "890                 1       1    male  26.0      0      0  30.0000        C\n",
              "891                 0       3    male  32.0      0      0   7.7500        Q\n",
              "\n",
              "[891 rows x 8 columns]"
            ]
          },
          "execution_count": 840,
          "metadata": {},
          "output_type": "execute_result"
        }
      ],
      "source": [
        "#Удаляем неинформативные столбцы = каюта, имя, ticket  = так как они не несут никакой смысловой нагрузки\n",
        "df_train = df_train.drop(['Cabin', 'Name', 'Ticket'], axis =1)\n",
        "df_test = df_test.drop(['Cabin', 'Name', 'Ticket'], axis =1)\n",
        "df_train"
      ]
    },
    {
      "cell_type": "markdown",
      "metadata": {
        "id": "w_6-hSABWsme"
      },
      "source": [
        "**Работа с признаком Fare**"
      ]
    },
    {
      "cell_type": "code",
      "execution_count": 841,
      "metadata": {},
      "outputs": [
        {
          "data": {
            "text/plain": [
              "Survived    0\n",
              "Pclass      0\n",
              "Sex         0\n",
              "Age         0\n",
              "SibSp       0\n",
              "Parch       0\n",
              "Fare        0\n",
              "Embarked    2\n",
              "dtype: int64"
            ]
          },
          "execution_count": 841,
          "metadata": {},
          "output_type": "execute_result"
        }
      ],
      "source": [
        "#Заполняем пропуск в Fare медианным значением\n",
        "values_fare_train = {'Fare': df_train['Fare'].median()}\n",
        "df_train = df_train.fillna(values_fare_train)\n",
        "values_fare_test = {'Fare': df_test['Fare'].median()}\n",
        "df_test = df_test.fillna(values_fare_test)\n",
        "df_train.isnull().sum()"
      ]
    },
    {
      "cell_type": "code",
      "execution_count": 842,
      "metadata": {},
      "outputs": [
        {
          "data": {
            "text/html": [
              "<div>\n",
              "<style scoped>\n",
              "    .dataframe tbody tr th:only-of-type {\n",
              "        vertical-align: middle;\n",
              "    }\n",
              "\n",
              "    .dataframe tbody tr th {\n",
              "        vertical-align: top;\n",
              "    }\n",
              "\n",
              "    .dataframe thead th {\n",
              "        text-align: right;\n",
              "    }\n",
              "</style>\n",
              "<table border=\"1\" class=\"dataframe\">\n",
              "  <thead>\n",
              "    <tr style=\"text-align: right;\">\n",
              "      <th></th>\n",
              "      <th>Survived</th>\n",
              "      <th>Pclass</th>\n",
              "      <th>Sex</th>\n",
              "      <th>Age</th>\n",
              "      <th>SibSp</th>\n",
              "      <th>Parch</th>\n",
              "      <th>Fare</th>\n",
              "      <th>Embarked</th>\n",
              "    </tr>\n",
              "    <tr>\n",
              "      <th>PassengerId</th>\n",
              "      <th></th>\n",
              "      <th></th>\n",
              "      <th></th>\n",
              "      <th></th>\n",
              "      <th></th>\n",
              "      <th></th>\n",
              "      <th></th>\n",
              "      <th></th>\n",
              "    </tr>\n",
              "  </thead>\n",
              "  <tbody>\n",
              "    <tr>\n",
              "      <th>180</th>\n",
              "      <td>0</td>\n",
              "      <td>3</td>\n",
              "      <td>male</td>\n",
              "      <td>36.0</td>\n",
              "      <td>0</td>\n",
              "      <td>0</td>\n",
              "      <td>0.0</td>\n",
              "      <td>S</td>\n",
              "    </tr>\n",
              "    <tr>\n",
              "      <th>264</th>\n",
              "      <td>0</td>\n",
              "      <td>1</td>\n",
              "      <td>male</td>\n",
              "      <td>40.0</td>\n",
              "      <td>0</td>\n",
              "      <td>0</td>\n",
              "      <td>0.0</td>\n",
              "      <td>S</td>\n",
              "    </tr>\n",
              "    <tr>\n",
              "      <th>272</th>\n",
              "      <td>1</td>\n",
              "      <td>3</td>\n",
              "      <td>male</td>\n",
              "      <td>25.0</td>\n",
              "      <td>0</td>\n",
              "      <td>0</td>\n",
              "      <td>0.0</td>\n",
              "      <td>S</td>\n",
              "    </tr>\n",
              "    <tr>\n",
              "      <th>278</th>\n",
              "      <td>0</td>\n",
              "      <td>2</td>\n",
              "      <td>male</td>\n",
              "      <td>28.0</td>\n",
              "      <td>0</td>\n",
              "      <td>0</td>\n",
              "      <td>0.0</td>\n",
              "      <td>S</td>\n",
              "    </tr>\n",
              "    <tr>\n",
              "      <th>303</th>\n",
              "      <td>0</td>\n",
              "      <td>3</td>\n",
              "      <td>male</td>\n",
              "      <td>19.0</td>\n",
              "      <td>0</td>\n",
              "      <td>0</td>\n",
              "      <td>0.0</td>\n",
              "      <td>S</td>\n",
              "    </tr>\n",
              "    <tr>\n",
              "      <th>414</th>\n",
              "      <td>0</td>\n",
              "      <td>2</td>\n",
              "      <td>male</td>\n",
              "      <td>28.0</td>\n",
              "      <td>0</td>\n",
              "      <td>0</td>\n",
              "      <td>0.0</td>\n",
              "      <td>S</td>\n",
              "    </tr>\n",
              "    <tr>\n",
              "      <th>467</th>\n",
              "      <td>0</td>\n",
              "      <td>2</td>\n",
              "      <td>male</td>\n",
              "      <td>28.0</td>\n",
              "      <td>0</td>\n",
              "      <td>0</td>\n",
              "      <td>0.0</td>\n",
              "      <td>S</td>\n",
              "    </tr>\n",
              "    <tr>\n",
              "      <th>482</th>\n",
              "      <td>0</td>\n",
              "      <td>2</td>\n",
              "      <td>male</td>\n",
              "      <td>28.0</td>\n",
              "      <td>0</td>\n",
              "      <td>0</td>\n",
              "      <td>0.0</td>\n",
              "      <td>S</td>\n",
              "    </tr>\n",
              "    <tr>\n",
              "      <th>598</th>\n",
              "      <td>0</td>\n",
              "      <td>3</td>\n",
              "      <td>male</td>\n",
              "      <td>49.0</td>\n",
              "      <td>0</td>\n",
              "      <td>0</td>\n",
              "      <td>0.0</td>\n",
              "      <td>S</td>\n",
              "    </tr>\n",
              "    <tr>\n",
              "      <th>634</th>\n",
              "      <td>0</td>\n",
              "      <td>1</td>\n",
              "      <td>male</td>\n",
              "      <td>28.0</td>\n",
              "      <td>0</td>\n",
              "      <td>0</td>\n",
              "      <td>0.0</td>\n",
              "      <td>S</td>\n",
              "    </tr>\n",
              "    <tr>\n",
              "      <th>675</th>\n",
              "      <td>0</td>\n",
              "      <td>2</td>\n",
              "      <td>male</td>\n",
              "      <td>28.0</td>\n",
              "      <td>0</td>\n",
              "      <td>0</td>\n",
              "      <td>0.0</td>\n",
              "      <td>S</td>\n",
              "    </tr>\n",
              "    <tr>\n",
              "      <th>733</th>\n",
              "      <td>0</td>\n",
              "      <td>2</td>\n",
              "      <td>male</td>\n",
              "      <td>28.0</td>\n",
              "      <td>0</td>\n",
              "      <td>0</td>\n",
              "      <td>0.0</td>\n",
              "      <td>S</td>\n",
              "    </tr>\n",
              "    <tr>\n",
              "      <th>807</th>\n",
              "      <td>0</td>\n",
              "      <td>1</td>\n",
              "      <td>male</td>\n",
              "      <td>39.0</td>\n",
              "      <td>0</td>\n",
              "      <td>0</td>\n",
              "      <td>0.0</td>\n",
              "      <td>S</td>\n",
              "    </tr>\n",
              "    <tr>\n",
              "      <th>816</th>\n",
              "      <td>0</td>\n",
              "      <td>1</td>\n",
              "      <td>male</td>\n",
              "      <td>28.0</td>\n",
              "      <td>0</td>\n",
              "      <td>0</td>\n",
              "      <td>0.0</td>\n",
              "      <td>S</td>\n",
              "    </tr>\n",
              "    <tr>\n",
              "      <th>823</th>\n",
              "      <td>0</td>\n",
              "      <td>1</td>\n",
              "      <td>male</td>\n",
              "      <td>38.0</td>\n",
              "      <td>0</td>\n",
              "      <td>0</td>\n",
              "      <td>0.0</td>\n",
              "      <td>S</td>\n",
              "    </tr>\n",
              "  </tbody>\n",
              "</table>\n",
              "</div>"
            ],
            "text/plain": [
              "             Survived  Pclass   Sex   Age  SibSp  Parch  Fare Embarked\n",
              "PassengerId                                                           \n",
              "180                 0       3  male  36.0      0      0   0.0        S\n",
              "264                 0       1  male  40.0      0      0   0.0        S\n",
              "272                 1       3  male  25.0      0      0   0.0        S\n",
              "278                 0       2  male  28.0      0      0   0.0        S\n",
              "303                 0       3  male  19.0      0      0   0.0        S\n",
              "414                 0       2  male  28.0      0      0   0.0        S\n",
              "467                 0       2  male  28.0      0      0   0.0        S\n",
              "482                 0       2  male  28.0      0      0   0.0        S\n",
              "598                 0       3  male  49.0      0      0   0.0        S\n",
              "634                 0       1  male  28.0      0      0   0.0        S\n",
              "675                 0       2  male  28.0      0      0   0.0        S\n",
              "733                 0       2  male  28.0      0      0   0.0        S\n",
              "807                 0       1  male  39.0      0      0   0.0        S\n",
              "816                 0       1  male  28.0      0      0   0.0        S\n",
              "823                 0       1  male  38.0      0      0   0.0        S"
            ]
          },
          "metadata": {},
          "output_type": "display_data"
        },
        {
          "data": {
            "text/html": [
              "<div>\n",
              "<style scoped>\n",
              "    .dataframe tbody tr th:only-of-type {\n",
              "        vertical-align: middle;\n",
              "    }\n",
              "\n",
              "    .dataframe tbody tr th {\n",
              "        vertical-align: top;\n",
              "    }\n",
              "\n",
              "    .dataframe thead th {\n",
              "        text-align: right;\n",
              "    }\n",
              "</style>\n",
              "<table border=\"1\" class=\"dataframe\">\n",
              "  <thead>\n",
              "    <tr style=\"text-align: right;\">\n",
              "      <th></th>\n",
              "      <th>Pclass</th>\n",
              "      <th>Sex</th>\n",
              "      <th>Age</th>\n",
              "      <th>SibSp</th>\n",
              "      <th>Parch</th>\n",
              "      <th>Fare</th>\n",
              "      <th>Embarked</th>\n",
              "    </tr>\n",
              "    <tr>\n",
              "      <th>PassengerId</th>\n",
              "      <th></th>\n",
              "      <th></th>\n",
              "      <th></th>\n",
              "      <th></th>\n",
              "      <th></th>\n",
              "      <th></th>\n",
              "      <th></th>\n",
              "    </tr>\n",
              "  </thead>\n",
              "  <tbody>\n",
              "    <tr>\n",
              "      <th>1158</th>\n",
              "      <td>1</td>\n",
              "      <td>male</td>\n",
              "      <td>27.0</td>\n",
              "      <td>0</td>\n",
              "      <td>0</td>\n",
              "      <td>0.0</td>\n",
              "      <td>S</td>\n",
              "    </tr>\n",
              "    <tr>\n",
              "      <th>1264</th>\n",
              "      <td>1</td>\n",
              "      <td>male</td>\n",
              "      <td>49.0</td>\n",
              "      <td>0</td>\n",
              "      <td>0</td>\n",
              "      <td>0.0</td>\n",
              "      <td>S</td>\n",
              "    </tr>\n",
              "  </tbody>\n",
              "</table>\n",
              "</div>"
            ],
            "text/plain": [
              "             Pclass   Sex   Age  SibSp  Parch  Fare Embarked\n",
              "PassengerId                                                 \n",
              "1158              1  male  27.0      0      0   0.0        S\n",
              "1264              1  male  49.0      0      0   0.0        S"
            ]
          },
          "metadata": {},
          "output_type": "display_data"
        }
      ],
      "source": [
        "#Ищем выборсы в признаке Fare\n",
        "#(работа с выбросами ручным способом)\n",
        "#найдем строки, в которых стоимость билета была нулевой\n",
        "display(df_train[df_train['Fare']==0])\n",
        "display(df_test[df_test['Fare']==0])"
      ]
    },
    {
      "cell_type": "code",
      "execution_count": 843,
      "metadata": {},
      "outputs": [
        {
          "name": "stdout",
          "output_type": "stream",
          "text": [
            "Число выбросов:116\n",
            "Результирующее число:891\n"
          ]
        },
        {
          "data": {
            "image/png": "[encoded data removed]",
            "text/plain": [
              "<Figure size 1080x288 with 2 Axes>"
            ]
          },
          "metadata": {
            "needs_background": "light"
          },
          "output_type": "display_data"
        }
      ],
      "source": [
        "#Проверим выбросы в Fare по методу межквартильного размаха\n",
        "fig, axes = plt.subplots(nrows = 1, ncols = 2, figsize = (15, 4))\n",
        "histplot = sns.histplot(data = df_train, x = 'Fare', ax = axes[0]);\n",
        "boxplot= sns.boxplot(data = df_train, x = 'Fare', ax = axes[1])\n",
        "def outliers_iqr(data, feature):\n",
        "  x = data[feature]\n",
        "  quartile_1, quartile_3 = x.quantile(0.25), x.quantile(0.75)\n",
        "  iqr = quartile_3 - quartile_1\n",
        "  lower_bound = quartile_1 - (iqr * 1.5)\n",
        "  upper_bound = quartile_3 + (iqr * 1.5)\n",
        "  outliers = data [(x<lower_bound)|(x>upper_bound)]\n",
        "  cleaned = data [(x>lower_bound)|(x<upper_bound)]\n",
        "  return outliers, cleaned\n",
        "outliers, cleaned = outliers_iqr(df_train, 'Fare')\n",
        "print(f'Число выбросов:{outliers.shape[0]}')\n",
        "print(f'Результирующее число:{cleaned.shape[0]}')"
      ]
    },
    {
      "cell_type": "code",
      "execution_count": 844,
      "metadata": {},
      "outputs": [],
      "source": [
        "#найдем и удалим выброс с максимально дорогой стоимостью билета \n",
        "#df_train[df_train['Fare']==512.3292]\n",
        "#df_train = df_train.drop(labels = [259,680,738], axis = 0)\n",
        "#df_test[df_test['Fare']==512.3292]\n",
        "#df_test = df_test.drop(labels = 1235, axis = 0)"
      ]
    },
    {
      "cell_type": "markdown",
      "metadata": {},
      "source": [
        "**Работа с признаком Embarked**"
      ]
    },
    {
      "cell_type": "code",
      "execution_count": 845,
      "metadata": {
        "colab": {
          "base_uri": "https://localhost:8080/",
          "height": 112
        },
        "id": "t_IDTZcBUEA1",
        "outputId": "19ac681f-9a9c-4d53-d143-d1bf4b35ee11"
      },
      "outputs": [
        {
          "name": "stdout",
          "output_type": "stream",
          "text": [
            "<class 'pandas.core.frame.DataFrame'>\n",
            "Int64Index: 418 entries, 892 to 1309\n",
            "Data columns (total 7 columns):\n",
            " #   Column    Non-Null Count  Dtype  \n",
            "---  ------    --------------  -----  \n",
            " 0   Pclass    418 non-null    int64  \n",
            " 1   Sex       418 non-null    object \n",
            " 2   Age       418 non-null    float64\n",
            " 3   SibSp     418 non-null    int64  \n",
            " 4   Parch     418 non-null    int64  \n",
            " 5   Fare      418 non-null    float64\n",
            " 6   Embarked  418 non-null    object \n",
            "dtypes: float64(2), int64(3), object(2)\n",
            "memory usage: 26.1+ KB\n"
          ]
        }
      ],
      "source": [
        "#Заполняем пропуски модальными значениями\n",
        "values_train_embarked = {'Embarked': df_train['Embarked'].mode()[0]}\n",
        "df_train = df_train.fillna(values_train_embarked)\n",
        "values_test_embarked = {'Embarked': df_test['Embarked'].mode()[0]}\n",
        "df_test = df_test.fillna(values_test_embarked)\n",
        "df_test.info()"
      ]
    },
    {
      "cell_type": "markdown",
      "metadata": {},
      "source": [
        "**Создаем новый признак \"Family_size\"**"
      ]
    },
    {
      "cell_type": "code",
      "execution_count": 846,
      "metadata": {},
      "outputs": [
        {
          "data": {
            "text/html": [
              "<div>\n",
              "<style scoped>\n",
              "    .dataframe tbody tr th:only-of-type {\n",
              "        vertical-align: middle;\n",
              "    }\n",
              "\n",
              "    .dataframe tbody tr th {\n",
              "        vertical-align: top;\n",
              "    }\n",
              "\n",
              "    .dataframe thead th {\n",
              "        text-align: right;\n",
              "    }\n",
              "</style>\n",
              "<table border=\"1\" class=\"dataframe\">\n",
              "  <thead>\n",
              "    <tr style=\"text-align: right;\">\n",
              "      <th></th>\n",
              "      <th>Survived</th>\n",
              "      <th>Pclass</th>\n",
              "      <th>Sex</th>\n",
              "      <th>Age</th>\n",
              "      <th>Fare</th>\n",
              "      <th>Embarked</th>\n",
              "      <th>Family_size</th>\n",
              "    </tr>\n",
              "    <tr>\n",
              "      <th>PassengerId</th>\n",
              "      <th></th>\n",
              "      <th></th>\n",
              "      <th></th>\n",
              "      <th></th>\n",
              "      <th></th>\n",
              "      <th></th>\n",
              "      <th></th>\n",
              "    </tr>\n",
              "  </thead>\n",
              "  <tbody>\n",
              "    <tr>\n",
              "      <th>1</th>\n",
              "      <td>0</td>\n",
              "      <td>3</td>\n",
              "      <td>male</td>\n",
              "      <td>22.0</td>\n",
              "      <td>7.2500</td>\n",
              "      <td>S</td>\n",
              "      <td>1</td>\n",
              "    </tr>\n",
              "    <tr>\n",
              "      <th>2</th>\n",
              "      <td>1</td>\n",
              "      <td>1</td>\n",
              "      <td>female</td>\n",
              "      <td>38.0</td>\n",
              "      <td>71.2833</td>\n",
              "      <td>C</td>\n",
              "      <td>1</td>\n",
              "    </tr>\n",
              "    <tr>\n",
              "      <th>3</th>\n",
              "      <td>1</td>\n",
              "      <td>3</td>\n",
              "      <td>female</td>\n",
              "      <td>26.0</td>\n",
              "      <td>7.9250</td>\n",
              "      <td>S</td>\n",
              "      <td>0</td>\n",
              "    </tr>\n",
              "    <tr>\n",
              "      <th>4</th>\n",
              "      <td>1</td>\n",
              "      <td>1</td>\n",
              "      <td>female</td>\n",
              "      <td>35.0</td>\n",
              "      <td>53.1000</td>\n",
              "      <td>S</td>\n",
              "      <td>1</td>\n",
              "    </tr>\n",
              "    <tr>\n",
              "      <th>5</th>\n",
              "      <td>0</td>\n",
              "      <td>3</td>\n",
              "      <td>male</td>\n",
              "      <td>35.0</td>\n",
              "      <td>8.0500</td>\n",
              "      <td>S</td>\n",
              "      <td>0</td>\n",
              "    </tr>\n",
              "    <tr>\n",
              "      <th>...</th>\n",
              "      <td>...</td>\n",
              "      <td>...</td>\n",
              "      <td>...</td>\n",
              "      <td>...</td>\n",
              "      <td>...</td>\n",
              "      <td>...</td>\n",
              "      <td>...</td>\n",
              "    </tr>\n",
              "    <tr>\n",
              "      <th>887</th>\n",
              "      <td>0</td>\n",
              "      <td>2</td>\n",
              "      <td>male</td>\n",
              "      <td>27.0</td>\n",
              "      <td>13.0000</td>\n",
              "      <td>S</td>\n",
              "      <td>0</td>\n",
              "    </tr>\n",
              "    <tr>\n",
              "      <th>888</th>\n",
              "      <td>1</td>\n",
              "      <td>1</td>\n",
              "      <td>female</td>\n",
              "      <td>19.0</td>\n",
              "      <td>30.0000</td>\n",
              "      <td>S</td>\n",
              "      <td>0</td>\n",
              "    </tr>\n",
              "    <tr>\n",
              "      <th>889</th>\n",
              "      <td>0</td>\n",
              "      <td>3</td>\n",
              "      <td>female</td>\n",
              "      <td>28.0</td>\n",
              "      <td>23.4500</td>\n",
              "      <td>S</td>\n",
              "      <td>3</td>\n",
              "    </tr>\n",
              "    <tr>\n",
              "      <th>890</th>\n",
              "      <td>1</td>\n",
              "      <td>1</td>\n",
              "      <td>male</td>\n",
              "      <td>26.0</td>\n",
              "      <td>30.0000</td>\n",
              "      <td>C</td>\n",
              "      <td>0</td>\n",
              "    </tr>\n",
              "    <tr>\n",
              "      <th>891</th>\n",
              "      <td>0</td>\n",
              "      <td>3</td>\n",
              "      <td>male</td>\n",
              "      <td>32.0</td>\n",
              "      <td>7.7500</td>\n",
              "      <td>Q</td>\n",
              "      <td>0</td>\n",
              "    </tr>\n",
              "  </tbody>\n",
              "</table>\n",
              "<p>891 rows × 7 columns</p>\n",
              "</div>"
            ],
            "text/plain": [
              "             Survived  Pclass     Sex   Age     Fare Embarked  Family_size\n",
              "PassengerId                                                               \n",
              "1                   0       3    male  22.0   7.2500        S            1\n",
              "2                   1       1  female  38.0  71.2833        C            1\n",
              "3                   1       3  female  26.0   7.9250        S            0\n",
              "4                   1       1  female  35.0  53.1000        S            1\n",
              "5                   0       3    male  35.0   8.0500        S            0\n",
              "...               ...     ...     ...   ...      ...      ...          ...\n",
              "887                 0       2    male  27.0  13.0000        S            0\n",
              "888                 1       1  female  19.0  30.0000        S            0\n",
              "889                 0       3  female  28.0  23.4500        S            3\n",
              "890                 1       1    male  26.0  30.0000        C            0\n",
              "891                 0       3    male  32.0   7.7500        Q            0\n",
              "\n",
              "[891 rows x 7 columns]"
            ]
          },
          "execution_count": 846,
          "metadata": {},
          "output_type": "execute_result"
        }
      ],
      "source": [
        "\n",
        "df_train['Family_size'] = df_train['Parch'] + df_train['SibSp']\n",
        "df_train = df_train.drop(['Parch', 'SibSp'], axis =1) #а признаки Parch и SibSp удаляем\n",
        "df_test['Family_size'] = df_test['Parch'] + df_test['SibSp']\n",
        "df_test = df_test.drop(['Parch', 'SibSp'], axis =1)\n",
        "df_train"
      ]
    },
    {
      "cell_type": "markdown",
      "metadata": {},
      "source": [
        "**Кодирование признаков**"
      ]
    },
    {
      "cell_type": "code",
      "execution_count": 847,
      "metadata": {},
      "outputs": [],
      "source": [
        "y_train = df_train['Survived']\n",
        "train_sep = df_train.drop(columns=['Survived'])"
      ]
    },
    {
      "cell_type": "code",
      "execution_count": 848,
      "metadata": {},
      "outputs": [],
      "source": [
        "def encode_categorial(df_train, df_test):\n",
        "    test_start_ind=df_train.index[-1]\n",
        "    concated_df =pd.concat([df_train, df_test], sort=False)\n",
        "    encoded_df = pd.get_dummies(concated_df, drop_first=True)\n",
        "    df_train_encoded, df_test_encoded = encoded_df.iloc[:test_start_ind, :], encoded_df.iloc[test_start_ind:, :] \n",
        "    return df_train_encoded, df_test_encoded"
      ]
    },
    {
      "cell_type": "code",
      "execution_count": 849,
      "metadata": {},
      "outputs": [
        {
          "data": {
            "text/html": [
              "<div>\n",
              "<style scoped>\n",
              "    .dataframe tbody tr th:only-of-type {\n",
              "        vertical-align: middle;\n",
              "    }\n",
              "\n",
              "    .dataframe tbody tr th {\n",
              "        vertical-align: top;\n",
              "    }\n",
              "\n",
              "    .dataframe thead th {\n",
              "        text-align: right;\n",
              "    }\n",
              "</style>\n",
              "<table border=\"1\" class=\"dataframe\">\n",
              "  <thead>\n",
              "    <tr style=\"text-align: right;\">\n",
              "      <th></th>\n",
              "      <th>Pclass</th>\n",
              "      <th>Age</th>\n",
              "      <th>Fare</th>\n",
              "      <th>Family_size</th>\n",
              "      <th>Sex_male</th>\n",
              "      <th>Embarked_Q</th>\n",
              "      <th>Embarked_S</th>\n",
              "    </tr>\n",
              "    <tr>\n",
              "      <th>PassengerId</th>\n",
              "      <th></th>\n",
              "      <th></th>\n",
              "      <th></th>\n",
              "      <th></th>\n",
              "      <th></th>\n",
              "      <th></th>\n",
              "      <th></th>\n",
              "    </tr>\n",
              "  </thead>\n",
              "  <tbody>\n",
              "    <tr>\n",
              "      <th>1</th>\n",
              "      <td>3</td>\n",
              "      <td>22.0</td>\n",
              "      <td>7.2500</td>\n",
              "      <td>1</td>\n",
              "      <td>1</td>\n",
              "      <td>0</td>\n",
              "      <td>1</td>\n",
              "    </tr>\n",
              "    <tr>\n",
              "      <th>2</th>\n",
              "      <td>1</td>\n",
              "      <td>38.0</td>\n",
              "      <td>71.2833</td>\n",
              "      <td>1</td>\n",
              "      <td>0</td>\n",
              "      <td>0</td>\n",
              "      <td>0</td>\n",
              "    </tr>\n",
              "    <tr>\n",
              "      <th>3</th>\n",
              "      <td>3</td>\n",
              "      <td>26.0</td>\n",
              "      <td>7.9250</td>\n",
              "      <td>0</td>\n",
              "      <td>0</td>\n",
              "      <td>0</td>\n",
              "      <td>1</td>\n",
              "    </tr>\n",
              "    <tr>\n",
              "      <th>4</th>\n",
              "      <td>1</td>\n",
              "      <td>35.0</td>\n",
              "      <td>53.1000</td>\n",
              "      <td>1</td>\n",
              "      <td>0</td>\n",
              "      <td>0</td>\n",
              "      <td>1</td>\n",
              "    </tr>\n",
              "    <tr>\n",
              "      <th>5</th>\n",
              "      <td>3</td>\n",
              "      <td>35.0</td>\n",
              "      <td>8.0500</td>\n",
              "      <td>0</td>\n",
              "      <td>1</td>\n",
              "      <td>0</td>\n",
              "      <td>1</td>\n",
              "    </tr>\n",
              "    <tr>\n",
              "      <th>...</th>\n",
              "      <td>...</td>\n",
              "      <td>...</td>\n",
              "      <td>...</td>\n",
              "      <td>...</td>\n",
              "      <td>...</td>\n",
              "      <td>...</td>\n",
              "      <td>...</td>\n",
              "    </tr>\n",
              "    <tr>\n",
              "      <th>887</th>\n",
              "      <td>2</td>\n",
              "      <td>27.0</td>\n",
              "      <td>13.0000</td>\n",
              "      <td>0</td>\n",
              "      <td>1</td>\n",
              "      <td>0</td>\n",
              "      <td>1</td>\n",
              "    </tr>\n",
              "    <tr>\n",
              "      <th>888</th>\n",
              "      <td>1</td>\n",
              "      <td>19.0</td>\n",
              "      <td>30.0000</td>\n",
              "      <td>0</td>\n",
              "      <td>0</td>\n",
              "      <td>0</td>\n",
              "      <td>1</td>\n",
              "    </tr>\n",
              "    <tr>\n",
              "      <th>889</th>\n",
              "      <td>3</td>\n",
              "      <td>28.0</td>\n",
              "      <td>23.4500</td>\n",
              "      <td>3</td>\n",
              "      <td>0</td>\n",
              "      <td>0</td>\n",
              "      <td>1</td>\n",
              "    </tr>\n",
              "    <tr>\n",
              "      <th>890</th>\n",
              "      <td>1</td>\n",
              "      <td>26.0</td>\n",
              "      <td>30.0000</td>\n",
              "      <td>0</td>\n",
              "      <td>1</td>\n",
              "      <td>0</td>\n",
              "      <td>0</td>\n",
              "    </tr>\n",
              "    <tr>\n",
              "      <th>891</th>\n",
              "      <td>3</td>\n",
              "      <td>32.0</td>\n",
              "      <td>7.7500</td>\n",
              "      <td>0</td>\n",
              "      <td>1</td>\n",
              "      <td>1</td>\n",
              "      <td>0</td>\n",
              "    </tr>\n",
              "  </tbody>\n",
              "</table>\n",
              "<p>891 rows × 7 columns</p>\n",
              "</div>"
            ],
            "text/plain": [
              "             Pclass   Age     Fare  Family_size  Sex_male  Embarked_Q  \\\n",
              "PassengerId                                                             \n",
              "1                 3  22.0   7.2500            1         1           0   \n",
              "2                 1  38.0  71.2833            1         0           0   \n",
              "3                 3  26.0   7.9250            0         0           0   \n",
              "4                 1  35.0  53.1000            1         0           0   \n",
              "5                 3  35.0   8.0500            0         1           0   \n",
              "...             ...   ...      ...          ...       ...         ...   \n",
              "887               2  27.0  13.0000            0         1           0   \n",
              "888               1  19.0  30.0000            0         0           0   \n",
              "889               3  28.0  23.4500            3         0           0   \n",
              "890               1  26.0  30.0000            0         1           0   \n",
              "891               3  32.0   7.7500            0         1           1   \n",
              "\n",
              "             Embarked_S  \n",
              "PassengerId              \n",
              "1                     1  \n",
              "2                     0  \n",
              "3                     1  \n",
              "4                     1  \n",
              "5                     1  \n",
              "...                 ...  \n",
              "887                   1  \n",
              "888                   1  \n",
              "889                   1  \n",
              "890                   0  \n",
              "891                   0  \n",
              "\n",
              "[891 rows x 7 columns]"
            ]
          },
          "execution_count": 849,
          "metadata": {},
          "output_type": "execute_result"
        }
      ],
      "source": [
        "X_train, X_test = encode_categorial(train_sep, df_test)\n",
        "X_train"
      ]
    },
    {
      "cell_type": "markdown",
      "metadata": {},
      "source": [
        "**Обучаем методом случайного дерева**"
      ]
    },
    {
      "cell_type": "code",
      "execution_count": 850,
      "metadata": {},
      "outputs": [],
      "source": [
        "dt_clf = DecisionTreeClassifier()"
      ]
    },
    {
      "cell_type": "code",
      "execution_count": 851,
      "metadata": {},
      "outputs": [
        {
          "name": "stdout",
          "output_type": "stream",
          "text": [
            "CPU times: total: 0 ns\n",
            "Wall time: 2.99 ms\n"
          ]
        },
        {
          "data": {
            "text/html": [
              "<style>#sk-container-id-9 {color: black;background-color: white;}#sk-container-id-9 pre{padding: 0;}#sk-container-id-9 div.sk-toggleable {background-color: white;}#sk-container-id-9 label.sk-toggleable__label {cursor: pointer;display: block;width: 100%;margin-bottom: 0;padding: 0.3em;box-sizing: border-box;text-align: center;}#sk-container-id-9 label.sk-toggleable__label-arrow:before {content: \"▸\";float: left;margin-right: 0.25em;color: #696969;}#sk-container-id-9 label.sk-toggleable__label-arrow:hover:before {color: black;}#sk-container-id-9 div.sk-estimator:hover label.sk-toggleable__label-arrow:before {color: black;}#sk-container-id-9 div.sk-toggleable__content {max-height: 0;max-width: 0;overflow: hidden;text-align: left;background-color: #f0f8ff;}#sk-container-id-9 div.sk-toggleable__content pre {margin: 0.2em;color: black;border-radius: 0.25em;background-color: #f0f8ff;}#sk-container-id-9 input.sk-toggleable__control:checked~div.sk-toggleable__content {max-height: 200px;max-width: 100%;overflow: auto;}#sk-container-id-9 input.sk-toggleable__control:checked~label.sk-toggleable__label-arrow:before {content: \"▾\";}#sk-container-id-9 div.sk-estimator input.sk-toggleable__control:checked~label.sk-toggleable__label {background-color: #d4ebff;}#sk-container-id-9 div.sk-label input.sk-toggleable__control:checked~label.sk-toggleable__label {background-color: #d4ebff;}#sk-container-id-9 input.sk-hidden--visually {border: 0;clip: rect(1px 1px 1px 1px);clip: rect(1px, 1px, 1px, 1px);height: 1px;margin: -1px;overflow: hidden;padding: 0;position: absolute;width: 1px;}#sk-container-id-9 div.sk-estimator {font-family: monospace;background-color: #f0f8ff;border: 1px dotted black;border-radius: 0.25em;box-sizing: border-box;margin-bottom: 0.5em;}#sk-container-id-9 div.sk-estimator:hover {background-color: #d4ebff;}#sk-container-id-9 div.sk-parallel-item::after {content: \"\";width: 100%;border-bottom: 1px solid gray;flex-grow: 1;}#sk-container-id-9 div.sk-label:hover label.sk-toggleable__label {background-color: #d4ebff;}#sk-container-id-9 div.sk-serial::before {content: \"\";position: absolute;border-left: 1px solid gray;box-sizing: border-box;top: 0;bottom: 0;left: 50%;z-index: 0;}#sk-container-id-9 div.sk-serial {display: flex;flex-direction: column;align-items: center;background-color: white;padding-right: 0.2em;padding-left: 0.2em;position: relative;}#sk-container-id-9 div.sk-item {position: relative;z-index: 1;}#sk-container-id-9 div.sk-parallel {display: flex;align-items: stretch;justify-content: center;background-color: white;position: relative;}#sk-container-id-9 div.sk-item::before, #sk-container-id-9 div.sk-parallel-item::before {content: \"\";position: absolute;border-left: 1px solid gray;box-sizing: border-box;top: 0;bottom: 0;left: 50%;z-index: -1;}#sk-container-id-9 div.sk-parallel-item {display: flex;flex-direction: column;z-index: 1;position: relative;background-color: white;}#sk-container-id-9 div.sk-parallel-item:first-child::after {align-self: flex-end;width: 50%;}#sk-container-id-9 div.sk-parallel-item:last-child::after {align-self: flex-start;width: 50%;}#sk-container-id-9 div.sk-parallel-item:only-child::after {width: 0;}#sk-container-id-9 div.sk-dashed-wrapped {border: 1px dashed gray;margin: 0 0.4em 0.5em 0.4em;box-sizing: border-box;padding-bottom: 0.4em;background-color: white;}#sk-container-id-9 div.sk-label label {font-family: monospace;font-weight: bold;display: inline-block;line-height: 1.2em;}#sk-container-id-9 div.sk-label-container {text-align: center;}#sk-container-id-9 div.sk-container {/* jupyter's `normalize.less` sets `[hidden] { display: none; }` but bootstrap.min.css set `[hidden] { display: none !important; }` so we also need the `!important` here to be able to override the default hidden behavior on the sphinx rendered scikit-learn.org. See: https://github.com/scikit-learn/scikit-learn/issues/21755 */display: inline-block !important;position: relative;}#sk-container-id-9 div.sk-text-repr-fallback {display: none;}</style><div id=\"sk-container-id-9\" class=\"sk-top-container\"><div class=\"sk-text-repr-fallback\"><pre>DecisionTreeClassifier()</pre><b>In a Jupyter environment, please rerun this cell to show the HTML representation or trust the notebook. <br />On GitHub, the HTML representation is unable to render, please try loading this page with nbviewer.org.</b></div><div class=\"sk-container\" hidden><div class=\"sk-item\"><div class=\"sk-estimator sk-toggleable\"><input class=\"sk-toggleable__control sk-hidden--visually\" id=\"sk-estimator-id-9\" type=\"checkbox\" checked><label for=\"sk-estimator-id-9\" class=\"sk-toggleable__label sk-toggleable__label-arrow\">DecisionTreeClassifier</label><div class=\"sk-toggleable__content\"><pre>DecisionTreeClassifier()</pre></div></div></div></div></div>"
            ],
            "text/plain": [
              "DecisionTreeClassifier()"
            ]
          },
          "execution_count": 851,
          "metadata": {},
          "output_type": "execute_result"
        }
      ],
      "source": [
        "%%time\n",
        "dt_clf.fit(X_train, y_train)"
      ]
    },
    {
      "cell_type": "code",
      "execution_count": 852,
      "metadata": {},
      "outputs": [],
      "source": [
        "pred_dt_simple=dt_clf.predict(X_test)"
      ]
    },
    {
      "cell_type": "markdown",
      "metadata": {},
      "source": [
        "*Поиск гипермараметров Gridsearch*"
      ]
    },
    {
      "cell_type": "code",
      "execution_count": 853,
      "metadata": {},
      "outputs": [],
      "source": [
        "from sklearn.model_selection import GridSearchCV"
      ]
    },
    {
      "cell_type": "code",
      "execution_count": 854,
      "metadata": {},
      "outputs": [],
      "source": [
        "clf = DecisionTreeClassifier()\n",
        "parameters= {\n",
        "    'criterion':['entropy', 'gini'],\n",
        "    'max_depth': range(1, 10),\n",
        "    'min_samples_split': range(2, 10),\n",
        "    'min_samples_leaf':range(1, 10)\n",
        "}\n",
        "grid_cv = GridSearchCV(clf, parameters, cv=5)"
      ]
    },
    {
      "cell_type": "code",
      "execution_count": 855,
      "metadata": {},
      "outputs": [
        {
          "name": "stdout",
          "output_type": "stream",
          "text": [
            "CPU times: total: 17.1 s\n",
            "Wall time: 17.1 s\n"
          ]
        },
        {
          "data": {
            "text/html": [
              "<style>#sk-container-id-10 {color: black;background-color: white;}#sk-container-id-10 pre{padding: 0;}#sk-container-id-10 div.sk-toggleable {background-color: white;}#sk-container-id-10 label.sk-toggleable__label {cursor: pointer;display: block;width: 100%;margin-bottom: 0;padding: 0.3em;box-sizing: border-box;text-align: center;}#sk-container-id-10 label.sk-toggleable__label-arrow:before {content: \"▸\";float: left;margin-right: 0.25em;color: #696969;}#sk-container-id-10 label.sk-toggleable__label-arrow:hover:before {color: black;}#sk-container-id-10 div.sk-estimator:hover label.sk-toggleable__label-arrow:before {color: black;}#sk-container-id-10 div.sk-toggleable__content {max-height: 0;max-width: 0;overflow: hidden;text-align: left;background-color: #f0f8ff;}#sk-container-id-10 div.sk-toggleable__content pre {margin: 0.2em;color: black;border-radius: 0.25em;background-color: #f0f8ff;}#sk-container-id-10 input.sk-toggleable__control:checked~div.sk-toggleable__content {max-height: 200px;max-width: 100%;overflow: auto;}#sk-container-id-10 input.sk-toggleable__control:checked~label.sk-toggleable__label-arrow:before {content: \"▾\";}#sk-container-id-10 div.sk-estimator input.sk-toggleable__control:checked~label.sk-toggleable__label {background-color: #d4ebff;}#sk-container-id-10 div.sk-label input.sk-toggleable__control:checked~label.sk-toggleable__label {background-color: #d4ebff;}#sk-container-id-10 input.sk-hidden--visually {border: 0;clip: rect(1px 1px 1px 1px);clip: rect(1px, 1px, 1px, 1px);height: 1px;margin: -1px;overflow: hidden;padding: 0;position: absolute;width: 1px;}#sk-container-id-10 div.sk-estimator {font-family: monospace;background-color: #f0f8ff;border: 1px dotted black;border-radius: 0.25em;box-sizing: border-box;margin-bottom: 0.5em;}#sk-container-id-10 div.sk-estimator:hover {background-color: #d4ebff;}#sk-container-id-10 div.sk-parallel-item::after {content: \"\";width: 100%;border-bottom: 1px solid gray;flex-grow: 1;}#sk-container-id-10 div.sk-label:hover label.sk-toggleable__label {background-color: #d4ebff;}#sk-container-id-10 div.sk-serial::before {content: \"\";position: absolute;border-left: 1px solid gray;box-sizing: border-box;top: 0;bottom: 0;left: 50%;z-index: 0;}#sk-container-id-10 div.sk-serial {display: flex;flex-direction: column;align-items: center;background-color: white;padding-right: 0.2em;padding-left: 0.2em;position: relative;}#sk-container-id-10 div.sk-item {position: relative;z-index: 1;}#sk-container-id-10 div.sk-parallel {display: flex;align-items: stretch;justify-content: center;background-color: white;position: relative;}#sk-container-id-10 div.sk-item::before, #sk-container-id-10 div.sk-parallel-item::before {content: \"\";position: absolute;border-left: 1px solid gray;box-sizing: border-box;top: 0;bottom: 0;left: 50%;z-index: -1;}#sk-container-id-10 div.sk-parallel-item {display: flex;flex-direction: column;z-index: 1;position: relative;background-color: white;}#sk-container-id-10 div.sk-parallel-item:first-child::after {align-self: flex-end;width: 50%;}#sk-container-id-10 div.sk-parallel-item:last-child::after {align-self: flex-start;width: 50%;}#sk-container-id-10 div.sk-parallel-item:only-child::after {width: 0;}#sk-container-id-10 div.sk-dashed-wrapped {border: 1px dashed gray;margin: 0 0.4em 0.5em 0.4em;box-sizing: border-box;padding-bottom: 0.4em;background-color: white;}#sk-container-id-10 div.sk-label label {font-family: monospace;font-weight: bold;display: inline-block;line-height: 1.2em;}#sk-container-id-10 div.sk-label-container {text-align: center;}#sk-container-id-10 div.sk-container {/* jupyter's `normalize.less` sets `[hidden] { display: none; }` but bootstrap.min.css set `[hidden] { display: none !important; }` so we also need the `!important` here to be able to override the default hidden behavior on the sphinx rendered scikit-learn.org. See: https://github.com/scikit-learn/scikit-learn/issues/21755 */display: inline-block !important;position: relative;}#sk-container-id-10 div.sk-text-repr-fallback {display: none;}</style><div id=\"sk-container-id-10\" class=\"sk-top-container\"><div class=\"sk-text-repr-fallback\"><pre>GridSearchCV(cv=5, estimator=DecisionTreeClassifier(),\n",
              "             param_grid={&#x27;criterion&#x27;: [&#x27;entropy&#x27;, &#x27;gini&#x27;],\n",
              "                         &#x27;max_depth&#x27;: range(1, 10),\n",
              "                         &#x27;min_samples_leaf&#x27;: range(1, 10),\n",
              "                         &#x27;min_samples_split&#x27;: range(2, 10)})</pre><b>In a Jupyter environment, please rerun this cell to show the HTML representation or trust the notebook. <br />On GitHub, the HTML representation is unable to render, please try loading this page with nbviewer.org.</b></div><div class=\"sk-container\" hidden><div class=\"sk-item sk-dashed-wrapped\"><div class=\"sk-label-container\"><div class=\"sk-label sk-toggleable\"><input class=\"sk-toggleable__control sk-hidden--visually\" id=\"sk-estimator-id-10\" type=\"checkbox\" ><label for=\"sk-estimator-id-10\" class=\"sk-toggleable__label sk-toggleable__label-arrow\">GridSearchCV</label><div class=\"sk-toggleable__content\"><pre>GridSearchCV(cv=5, estimator=DecisionTreeClassifier(),\n",
              "             param_grid={&#x27;criterion&#x27;: [&#x27;entropy&#x27;, &#x27;gini&#x27;],\n",
              "                         &#x27;max_depth&#x27;: range(1, 10),\n",
              "                         &#x27;min_samples_leaf&#x27;: range(1, 10),\n",
              "                         &#x27;min_samples_split&#x27;: range(2, 10)})</pre></div></div></div><div class=\"sk-parallel\"><div class=\"sk-parallel-item\"><div class=\"sk-item\"><div class=\"sk-label-container\"><div class=\"sk-label sk-toggleable\"><input class=\"sk-toggleable__control sk-hidden--visually\" id=\"sk-estimator-id-11\" type=\"checkbox\" ><label for=\"sk-estimator-id-11\" class=\"sk-toggleable__label sk-toggleable__label-arrow\">estimator: DecisionTreeClassifier</label><div class=\"sk-toggleable__content\"><pre>DecisionTreeClassifier()</pre></div></div></div><div class=\"sk-serial\"><div class=\"sk-item\"><div class=\"sk-estimator sk-toggleable\"><input class=\"sk-toggleable__control sk-hidden--visually\" id=\"sk-estimator-id-12\" type=\"checkbox\" ><label for=\"sk-estimator-id-12\" class=\"sk-toggleable__label sk-toggleable__label-arrow\">DecisionTreeClassifier</label><div class=\"sk-toggleable__content\"><pre>DecisionTreeClassifier()</pre></div></div></div></div></div></div></div></div></div></div>"
            ],
            "text/plain": [
              "GridSearchCV(cv=5, estimator=DecisionTreeClassifier(),\n",
              "             param_grid={'criterion': ['entropy', 'gini'],\n",
              "                         'max_depth': range(1, 10),\n",
              "                         'min_samples_leaf': range(1, 10),\n",
              "                         'min_samples_split': range(2, 10)})"
            ]
          },
          "execution_count": 855,
          "metadata": {},
          "output_type": "execute_result"
        }
      ],
      "source": [
        "%%time\n",
        "grid_cv.fit(X_train, y_train)"
      ]
    },
    {
      "cell_type": "code",
      "execution_count": 857,
      "metadata": {},
      "outputs": [
        {
          "name": "stdout",
          "output_type": "stream",
          "text": [
            "Лучшие параметры классификатора: {'criterion': 'gini', 'max_depth': 7, 'min_samples_leaf': 3, 'min_samples_split': 2}\n"
          ]
        }
      ],
      "source": [
        "best_model = grid_cv.best_estimator_\n",
        "print('Лучшие параметры классификатора:', grid_cv.best_params_)"
      ]
    },
    {
      "cell_type": "code",
      "execution_count": 858,
      "metadata": {},
      "outputs": [],
      "source": [
        "grid_pred = best_model.predict(X_test)"
      ]
    },
    {
      "cell_type": "markdown",
      "metadata": {},
      "source": [
        "*Поиск гиперпараметров по GridSearch Random*"
      ]
    },
    {
      "cell_type": "code",
      "execution_count": 859,
      "metadata": {},
      "outputs": [],
      "source": [
        "from sklearn.model_selection import RandomizedSearchCV"
      ]
    },
    {
      "cell_type": "code",
      "execution_count": 860,
      "metadata": {},
      "outputs": [],
      "source": [
        "random_grid_cv = RandomizedSearchCV(clf, parameters, cv=5)"
      ]
    },
    {
      "cell_type": "code",
      "execution_count": 862,
      "metadata": {},
      "outputs": [
        {
          "name": "stdout",
          "output_type": "stream",
          "text": [
            "CPU times: total: 156 ms\n",
            "Wall time: 150 ms\n"
          ]
        },
        {
          "data": {
            "text/html": [
              "<style>#sk-container-id-11 {color: black;background-color: white;}#sk-container-id-11 pre{padding: 0;}#sk-container-id-11 div.sk-toggleable {background-color: white;}#sk-container-id-11 label.sk-toggleable__label {cursor: pointer;display: block;width: 100%;margin-bottom: 0;padding: 0.3em;box-sizing: border-box;text-align: center;}#sk-container-id-11 label.sk-toggleable__label-arrow:before {content: \"▸\";float: left;margin-right: 0.25em;color: #696969;}#sk-container-id-11 label.sk-toggleable__label-arrow:hover:before {color: black;}#sk-container-id-11 div.sk-estimator:hover label.sk-toggleable__label-arrow:before {color: black;}#sk-container-id-11 div.sk-toggleable__content {max-height: 0;max-width: 0;overflow: hidden;text-align: left;background-color: #f0f8ff;}#sk-container-id-11 div.sk-toggleable__content pre {margin: 0.2em;color: black;border-radius: 0.25em;background-color: #f0f8ff;}#sk-container-id-11 input.sk-toggleable__control:checked~div.sk-toggleable__content {max-height: 200px;max-width: 100%;overflow: auto;}#sk-container-id-11 input.sk-toggleable__control:checked~label.sk-toggleable__label-arrow:before {content: \"▾\";}#sk-container-id-11 div.sk-estimator input.sk-toggleable__control:checked~label.sk-toggleable__label {background-color: #d4ebff;}#sk-container-id-11 div.sk-label input.sk-toggleable__control:checked~label.sk-toggleable__label {background-color: #d4ebff;}#sk-container-id-11 input.sk-hidden--visually {border: 0;clip: rect(1px 1px 1px 1px);clip: rect(1px, 1px, 1px, 1px);height: 1px;margin: -1px;overflow: hidden;padding: 0;position: absolute;width: 1px;}#sk-container-id-11 div.sk-estimator {font-family: monospace;background-color: #f0f8ff;border: 1px dotted black;border-radius: 0.25em;box-sizing: border-box;margin-bottom: 0.5em;}#sk-container-id-11 div.sk-estimator:hover {background-color: #d4ebff;}#sk-container-id-11 div.sk-parallel-item::after {content: \"\";width: 100%;border-bottom: 1px solid gray;flex-grow: 1;}#sk-container-id-11 div.sk-label:hover label.sk-toggleable__label {background-color: #d4ebff;}#sk-container-id-11 div.sk-serial::before {content: \"\";position: absolute;border-left: 1px solid gray;box-sizing: border-box;top: 0;bottom: 0;left: 50%;z-index: 0;}#sk-container-id-11 div.sk-serial {display: flex;flex-direction: column;align-items: center;background-color: white;padding-right: 0.2em;padding-left: 0.2em;position: relative;}#sk-container-id-11 div.sk-item {position: relative;z-index: 1;}#sk-container-id-11 div.sk-parallel {display: flex;align-items: stretch;justify-content: center;background-color: white;position: relative;}#sk-container-id-11 div.sk-item::before, #sk-container-id-11 div.sk-parallel-item::before {content: \"\";position: absolute;border-left: 1px solid gray;box-sizing: border-box;top: 0;bottom: 0;left: 50%;z-index: -1;}#sk-container-id-11 div.sk-parallel-item {display: flex;flex-direction: column;z-index: 1;position: relative;background-color: white;}#sk-container-id-11 div.sk-parallel-item:first-child::after {align-self: flex-end;width: 50%;}#sk-container-id-11 div.sk-parallel-item:last-child::after {align-self: flex-start;width: 50%;}#sk-container-id-11 div.sk-parallel-item:only-child::after {width: 0;}#sk-container-id-11 div.sk-dashed-wrapped {border: 1px dashed gray;margin: 0 0.4em 0.5em 0.4em;box-sizing: border-box;padding-bottom: 0.4em;background-color: white;}#sk-container-id-11 div.sk-label label {font-family: monospace;font-weight: bold;display: inline-block;line-height: 1.2em;}#sk-container-id-11 div.sk-label-container {text-align: center;}#sk-container-id-11 div.sk-container {/* jupyter's `normalize.less` sets `[hidden] { display: none; }` but bootstrap.min.css set `[hidden] { display: none !important; }` so we also need the `!important` here to be able to override the default hidden behavior on the sphinx rendered scikit-learn.org. See: https://github.com/scikit-learn/scikit-learn/issues/21755 */display: inline-block !important;position: relative;}#sk-container-id-11 div.sk-text-repr-fallback {display: none;}</style><div id=\"sk-container-id-11\" class=\"sk-top-container\"><div class=\"sk-text-repr-fallback\"><pre>RandomizedSearchCV(cv=5, estimator=DecisionTreeClassifier(),\n",
              "                   param_distributions={&#x27;criterion&#x27;: [&#x27;entropy&#x27;, &#x27;gini&#x27;],\n",
              "                                        &#x27;max_depth&#x27;: range(1, 10),\n",
              "                                        &#x27;min_samples_leaf&#x27;: range(1, 10),\n",
              "                                        &#x27;min_samples_split&#x27;: range(2, 10)})</pre><b>In a Jupyter environment, please rerun this cell to show the HTML representation or trust the notebook. <br />On GitHub, the HTML representation is unable to render, please try loading this page with nbviewer.org.</b></div><div class=\"sk-container\" hidden><div class=\"sk-item sk-dashed-wrapped\"><div class=\"sk-label-container\"><div class=\"sk-label sk-toggleable\"><input class=\"sk-toggleable__control sk-hidden--visually\" id=\"sk-estimator-id-13\" type=\"checkbox\" ><label for=\"sk-estimator-id-13\" class=\"sk-toggleable__label sk-toggleable__label-arrow\">RandomizedSearchCV</label><div class=\"sk-toggleable__content\"><pre>RandomizedSearchCV(cv=5, estimator=DecisionTreeClassifier(),\n",
              "                   param_distributions={&#x27;criterion&#x27;: [&#x27;entropy&#x27;, &#x27;gini&#x27;],\n",
              "                                        &#x27;max_depth&#x27;: range(1, 10),\n",
              "                                        &#x27;min_samples_leaf&#x27;: range(1, 10),\n",
              "                                        &#x27;min_samples_split&#x27;: range(2, 10)})</pre></div></div></div><div class=\"sk-parallel\"><div class=\"sk-parallel-item\"><div class=\"sk-item\"><div class=\"sk-label-container\"><div class=\"sk-label sk-toggleable\"><input class=\"sk-toggleable__control sk-hidden--visually\" id=\"sk-estimator-id-14\" type=\"checkbox\" ><label for=\"sk-estimator-id-14\" class=\"sk-toggleable__label sk-toggleable__label-arrow\">estimator: DecisionTreeClassifier</label><div class=\"sk-toggleable__content\"><pre>DecisionTreeClassifier()</pre></div></div></div><div class=\"sk-serial\"><div class=\"sk-item\"><div class=\"sk-estimator sk-toggleable\"><input class=\"sk-toggleable__control sk-hidden--visually\" id=\"sk-estimator-id-15\" type=\"checkbox\" ><label for=\"sk-estimator-id-15\" class=\"sk-toggleable__label sk-toggleable__label-arrow\">DecisionTreeClassifier</label><div class=\"sk-toggleable__content\"><pre>DecisionTreeClassifier()</pre></div></div></div></div></div></div></div></div></div></div>"
            ],
            "text/plain": [
              "RandomizedSearchCV(cv=5, estimator=DecisionTreeClassifier(),\n",
              "                   param_distributions={'criterion': ['entropy', 'gini'],\n",
              "                                        'max_depth': range(1, 10),\n",
              "                                        'min_samples_leaf': range(1, 10),\n",
              "                                        'min_samples_split': range(2, 10)})"
            ]
          },
          "execution_count": 862,
          "metadata": {},
          "output_type": "execute_result"
        }
      ],
      "source": [
        "%%time\n",
        "random_grid_cv.fit(X_train, y_train)"
      ]
    },
    {
      "cell_type": "code",
      "execution_count": 863,
      "metadata": {},
      "outputs": [
        {
          "name": "stdout",
          "output_type": "stream",
          "text": [
            "Лучшие параметры классификатора: {'min_samples_split': 5, 'min_samples_leaf': 6, 'max_depth': 8, 'criterion': 'gini'}\n"
          ]
        }
      ],
      "source": [
        "best_model_rand = random_grid_cv.best_estimator_\n",
        "print('Лучшие параметры классификатора:', random_grid_cv.best_params_)"
      ]
    },
    {
      "cell_type": "code",
      "execution_count": 864,
      "metadata": {},
      "outputs": [],
      "source": [
        "rand_grid_pred = best_model_rand.predict(X_test)"
      ]
    },
    {
      "cell_type": "markdown",
      "metadata": {},
      "source": [
        "**Создаем функцию для оформления сабмишна**"
      ]
    },
    {
      "cell_type": "code",
      "execution_count": 865,
      "metadata": {},
      "outputs": [],
      "source": [
        "def make_prediction_file(prediction, test_data, name):\n",
        "    result = pd.DataFrame({'PassengerId':test_data.reset_index()['PassengerId'], 'Survived':prediction})\n",
        "    result.to_csv(name, index=False)"
      ]
    },
    {
      "cell_type": "markdown",
      "metadata": {},
      "source": [
        "***Создаем сабмишны для деревьев***"
      ]
    },
    {
      "cell_type": "code",
      "execution_count": 868,
      "metadata": {},
      "outputs": [],
      "source": [
        "make_prediction_file(pred_dt_simple, df_test, 'titanic_dt_simple')\n",
        "make_prediction_file(grid_pred, df_test, 'titanic_grid_pred')\n",
        "make_prediction_file(rand_grid_pred, df_test, 'titanic_rand_grid_pred')"
      ]
    }
  ],
  "metadata": {
    "colab": {
      "collapsed_sections": [],
      "provenance": []
    },
    "kernelspec": {
      "display_name": "Python 3.10.5 64-bit (system)",
      "language": "python",
      "name": "python3"
    },
    "language_info": {
      "codemirror_mode": {
        "name": "ipython",
        "version": 3
      },
      "file_extension": ".py",
      "mimetype": "text/x-python",
      "name": "python",
      "nbconvert_exporter": "python",
      "pygments_lexer": "ipython3",
      "version": "3.10.5"
    },
    "vscode": {
      "interpreter": {
        "hash": "90ec02f91e64c6a1d884aacd1af7f6f75f87d8f19fb6032a8cc5df896fa76df1"
      }
    }
  },
  "nbformat": 4,
  "nbformat_minor": 0
}
